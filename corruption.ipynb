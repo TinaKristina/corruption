{
  "nbformat": 4,
  "nbformat_minor": 0,
  "metadata": {
    "colab": {
      "name": "corruption.ipynb",
      "provenance": [],
      "collapsed_sections": [],
      "authorship_tag": "ABX9TyOv4VRBd+NAHDdDJDfiD+iC",
      "include_colab_link": true
    },
    "kernelspec": {
      "name": "python3",
      "display_name": "Python 3"
    },
    "language_info": {
      "name": "python"
    }
  },
  "cells": [
    {
      "cell_type": "markdown",
      "metadata": {
        "id": "view-in-github",
        "colab_type": "text"
      },
      "source": [
        "<a href=\"https://colab.research.google.com/github/TinaKristina/corruption/blob/main/corruption.ipynb\" target=\"_parent\"><img src=\"https://colab.research.google.com/assets/colab-badge.svg\" alt=\"Open In Colab\"/></a>"
      ]
    },
    {
      "cell_type": "markdown",
      "metadata": {
        "id": "EKfLCnax3vGM"
      },
      "source": [
        "# Corruption:\n",
        "\n",
        "Which country has the worst CPI? Why? \n",
        "Does that influence on happiness rank some country?\n",
        "\n",
        "***CPI - CORRUPTION PERCEPTIONS INDEX \n",
        "\n",
        "https://www.kaggle.com/jeegarmaru/corruption-perceptions-index-for-10-years ***DS\n",
        "https://www.kaggle.com/transparencyint/corruption-index\n",
        "https://data.world/datasets/corruption"
      ]
    },
    {
      "cell_type": "code",
      "metadata": {
        "colab": {
          "base_uri": "https://localhost:8080/"
        },
        "id": "qi1TNUuTp9UI",
        "outputId": "fb556339-0f1d-4299-bcf1-4ce46954a370"
      },
      "source": [
        "from google.colab import drive\n",
        "drive.mount('/content/drive')"
      ],
      "execution_count": null,
      "outputs": [
        {
          "output_type": "stream",
          "name": "stdout",
          "text": [
            "Drive already mounted at /content/drive; to attempt to forcibly remount, call drive.mount(\"/content/drive\", force_remount=True).\n"
          ]
        }
      ]
    },
    {
      "cell_type": "code",
      "metadata": {
        "id": "jYTttWV4qKVS"
      },
      "source": [
        "import pandas as pd # data processing, CSV file I/O (e.g. pd.read_csv)\n",
        "import numpy as np  # linear algebra\n",
        "import matplotlib.pyplot as plt # plotting\n",
        "import seaborn as sns #plotting data\n",
        "%matplotlib inline"
      ],
      "execution_count": null,
      "outputs": []
    },
    {
      "cell_type": "code",
      "metadata": {
        "id": "nrj_1iaFqVlN"
      },
      "source": [
        "cor15 = pd.read_csv('/content/drive/My Drive/corruption_data_10-19/CPI_2015_final_dataset.csv')\n",
        "cor16 = pd.read_csv('/content/drive/My Drive/corruption_data_10-19/CPI_2016_final_dataset.csv')\n",
        "cor17 = pd.read_csv('/content/drive/My Drive/corruption_data_10-19/CPI_2017_final_dataset.csv')\n",
        "cor18 = pd.read_csv('/content/drive/My Drive/corruption_data_10-19/CPI_2018_final_dataset.csv')\n",
        "cor19 = pd.read_csv('/content/drive/My Drive/corruption_data_10-19/CPI_2019_final_dataset.csv')\n"
      ],
      "execution_count": null,
      "outputs": []
    },
    {
      "cell_type": "code",
      "metadata": {
        "colab": {
          "base_uri": "https://localhost:8080/",
          "height": 326
        },
        "id": "AxUcvPujsR3l",
        "outputId": "57dce44c-dd72-49ca-a0d6-399896da36b6"
      },
      "source": [
        "cor19.head()"
      ],
      "execution_count": null,
      "outputs": [
        {
          "output_type": "execute_result",
          "data": {
            "text/html": [
              "<div>\n",
              "<style scoped>\n",
              "    .dataframe tbody tr th:only-of-type {\n",
              "        vertical-align: middle;\n",
              "    }\n",
              "\n",
              "    .dataframe tbody tr th {\n",
              "        vertical-align: top;\n",
              "    }\n",
              "\n",
              "    .dataframe thead th {\n",
              "        text-align: right;\n",
              "    }\n",
              "</style>\n",
              "<table border=\"1\" class=\"dataframe\">\n",
              "  <thead>\n",
              "    <tr style=\"text-align: right;\">\n",
              "      <th></th>\n",
              "      <th>Country</th>\n",
              "      <th>ISO3</th>\n",
              "      <th>Region</th>\n",
              "      <th>CPI score 2019</th>\n",
              "      <th>Rank</th>\n",
              "      <th>standard error</th>\n",
              "      <th>Number of sources</th>\n",
              "      <th>Lower CI</th>\n",
              "      <th>Upper CI</th>\n",
              "      <th>African Development Bank CPIA</th>\n",
              "      <th>Bertelsmann Foundation Sustainable Governance Index</th>\n",
              "      <th>Bertelsmann Foundation Transformation Index</th>\n",
              "      <th>Economist Intelligence Unit Country Ratings</th>\n",
              "      <th>Freedom House Nations in Transit Ratings</th>\n",
              "      <th>Global Insight Country Risk Ratings</th>\n",
              "      <th>IMD World Competitiveness Yearbook</th>\n",
              "      <th>PERC Asia Risk Guide</th>\n",
              "      <th>PRS International Country Risk Guide</th>\n",
              "      <th>Varieties of Democracy Project</th>\n",
              "      <th>World Bank CPIA</th>\n",
              "      <th>World Economic Forum EOS</th>\n",
              "      <th>World Justice Project Rule of Law Index</th>\n",
              "    </tr>\n",
              "  </thead>\n",
              "  <tbody>\n",
              "    <tr>\n",
              "      <th>0</th>\n",
              "      <td>Denmark</td>\n",
              "      <td>DNK</td>\n",
              "      <td>WE/EU</td>\n",
              "      <td>87</td>\n",
              "      <td>1</td>\n",
              "      <td>2.542474</td>\n",
              "      <td>8</td>\n",
              "      <td>82.83035</td>\n",
              "      <td>91.16965</td>\n",
              "      <td>NaN</td>\n",
              "      <td>96.99364</td>\n",
              "      <td>NaN</td>\n",
              "      <td>89.67447</td>\n",
              "      <td>NaN</td>\n",
              "      <td>83.25637</td>\n",
              "      <td>93.78233</td>\n",
              "      <td>NaN</td>\n",
              "      <td>93.38018</td>\n",
              "      <td>77.44470</td>\n",
              "      <td>NaN</td>\n",
              "      <td>79.05014</td>\n",
              "      <td>85.88441</td>\n",
              "    </tr>\n",
              "    <tr>\n",
              "      <th>1</th>\n",
              "      <td>New Zealand</td>\n",
              "      <td>NZL</td>\n",
              "      <td>AP</td>\n",
              "      <td>87</td>\n",
              "      <td>1</td>\n",
              "      <td>2.286490</td>\n",
              "      <td>8</td>\n",
              "      <td>83.25015</td>\n",
              "      <td>90.74985</td>\n",
              "      <td>NaN</td>\n",
              "      <td>96.99364</td>\n",
              "      <td>NaN</td>\n",
              "      <td>89.67447</td>\n",
              "      <td>NaN</td>\n",
              "      <td>83.25637</td>\n",
              "      <td>83.33897</td>\n",
              "      <td>NaN</td>\n",
              "      <td>93.38018</td>\n",
              "      <td>77.44470</td>\n",
              "      <td>NaN</td>\n",
              "      <td>89.04585</td>\n",
              "      <td>82.29129</td>\n",
              "    </tr>\n",
              "    <tr>\n",
              "      <th>2</th>\n",
              "      <td>Finland</td>\n",
              "      <td>FIN</td>\n",
              "      <td>WE/EU</td>\n",
              "      <td>86</td>\n",
              "      <td>3</td>\n",
              "      <td>2.924511</td>\n",
              "      <td>8</td>\n",
              "      <td>81.20380</td>\n",
              "      <td>90.79620</td>\n",
              "      <td>NaN</td>\n",
              "      <td>88.12477</td>\n",
              "      <td>NaN</td>\n",
              "      <td>72.20404</td>\n",
              "      <td>NaN</td>\n",
              "      <td>83.25637</td>\n",
              "      <td>93.86793</td>\n",
              "      <td>NaN</td>\n",
              "      <td>93.38018</td>\n",
              "      <td>75.27449</td>\n",
              "      <td>NaN</td>\n",
              "      <td>92.72847</td>\n",
              "      <td>86.78268</td>\n",
              "    </tr>\n",
              "    <tr>\n",
              "      <th>3</th>\n",
              "      <td>Singapore</td>\n",
              "      <td>SGP</td>\n",
              "      <td>AP</td>\n",
              "      <td>85</td>\n",
              "      <td>4</td>\n",
              "      <td>2.048400</td>\n",
              "      <td>9</td>\n",
              "      <td>81.64063</td>\n",
              "      <td>88.35938</td>\n",
              "      <td>NaN</td>\n",
              "      <td>NaN</td>\n",
              "      <td>72.74066</td>\n",
              "      <td>89.67447</td>\n",
              "      <td>NaN</td>\n",
              "      <td>83.25637</td>\n",
              "      <td>90.87188</td>\n",
              "      <td>89.10267</td>\n",
              "      <td>84.67139</td>\n",
              "      <td>77.44470</td>\n",
              "      <td>NaN</td>\n",
              "      <td>89.39657</td>\n",
              "      <td>84.98613</td>\n",
              "    </tr>\n",
              "    <tr>\n",
              "      <th>4</th>\n",
              "      <td>Sweden</td>\n",
              "      <td>SWE</td>\n",
              "      <td>WE/EU</td>\n",
              "      <td>85</td>\n",
              "      <td>4</td>\n",
              "      <td>1.977693</td>\n",
              "      <td>8</td>\n",
              "      <td>81.75658</td>\n",
              "      <td>88.24342</td>\n",
              "      <td>NaN</td>\n",
              "      <td>88.12477</td>\n",
              "      <td>NaN</td>\n",
              "      <td>89.67447</td>\n",
              "      <td>NaN</td>\n",
              "      <td>83.25637</td>\n",
              "      <td>83.51017</td>\n",
              "      <td>NaN</td>\n",
              "      <td>93.38018</td>\n",
              "      <td>78.16811</td>\n",
              "      <td>NaN</td>\n",
              "      <td>77.12115</td>\n",
              "      <td>86.78268</td>\n",
              "    </tr>\n",
              "  </tbody>\n",
              "</table>\n",
              "</div>"
            ],
            "text/plain": [
              "       Country  ... World Justice Project Rule of Law Index\n",
              "0      Denmark  ...                                85.88441\n",
              "1  New Zealand  ...                                82.29129\n",
              "2      Finland  ...                                86.78268\n",
              "3    Singapore  ...                                84.98613\n",
              "4       Sweden  ...                                86.78268\n",
              "\n",
              "[5 rows x 22 columns]"
            ]
          },
          "metadata": {},
          "execution_count": 5
        }
      ]
    },
    {
      "cell_type": "code",
      "metadata": {
        "colab": {
          "base_uri": "https://localhost:8080/"
        },
        "id": "-AsEpzYAsXrX",
        "outputId": "91d1b3c1-3696-4747-ac8a-bc65252774bc"
      },
      "source": [
        "cor19.info()"
      ],
      "execution_count": null,
      "outputs": [
        {
          "output_type": "stream",
          "name": "stdout",
          "text": [
            "<class 'pandas.core.frame.DataFrame'>\n",
            "RangeIndex: 180 entries, 0 to 179\n",
            "Data columns (total 22 columns):\n",
            " #   Column                                               Non-Null Count  Dtype  \n",
            "---  ------                                               --------------  -----  \n",
            " 0   Country                                              180 non-null    object \n",
            " 1   ISO3                                                 180 non-null    object \n",
            " 2   Region                                               180 non-null    object \n",
            " 3   CPI score 2019                                       180 non-null    int64  \n",
            " 4   Rank                                                 180 non-null    int64  \n",
            " 5   standard error                                       180 non-null    float64\n",
            " 6   Number of sources                                    180 non-null    int64  \n",
            " 7   Lower CI                                             180 non-null    float64\n",
            " 8   Upper CI                                             180 non-null    float64\n",
            " 9   African Development Bank CPIA                        37 non-null     float64\n",
            " 10  Bertelsmann Foundation Sustainable Governance Index  41 non-null     float64\n",
            " 11  Bertelsmann Foundation Transformation Index          137 non-null    float64\n",
            " 12  Economist Intelligence Unit Country Ratings          131 non-null    float64\n",
            " 13  Freedom House Nations in Transit Ratings             29 non-null     float64\n",
            " 14  Global Insight Country Risk Ratings                  180 non-null    float64\n",
            " 15  IMD World Competitiveness Yearbook                   63 non-null     float64\n",
            " 16  PERC Asia Risk Guide                                 15 non-null     float64\n",
            " 17  PRS International Country Risk Guide                 140 non-null    float64\n",
            " 18  Varieties of Democracy Project                       174 non-null    float64\n",
            " 19  World Bank CPIA                                      67 non-null     float64\n",
            " 20  World Economic Forum EOS                             134 non-null    float64\n",
            " 21  World Justice Project Rule of Law Index              123 non-null    float64\n",
            "dtypes: float64(16), int64(3), object(3)\n",
            "memory usage: 31.1+ KB\n"
          ]
        }
      ]
    },
    {
      "cell_type": "code",
      "metadata": {
        "colab": {
          "base_uri": "https://localhost:8080/",
          "height": 368
        },
        "id": "t4Q14AzgtFdN",
        "outputId": "79b471dc-cce9-45cc-94c3-db01cf197c03"
      },
      "source": [
        "cor15.describe()"
      ],
      "execution_count": null,
      "outputs": [
        {
          "output_type": "execute_result",
          "data": {
            "text/html": [
              "<div>\n",
              "<style scoped>\n",
              "    .dataframe tbody tr th:only-of-type {\n",
              "        vertical-align: middle;\n",
              "    }\n",
              "\n",
              "    .dataframe tbody tr th {\n",
              "        vertical-align: top;\n",
              "    }\n",
              "\n",
              "    .dataframe thead th {\n",
              "        text-align: right;\n",
              "    }\n",
              "</style>\n",
              "<table border=\"1\" class=\"dataframe\">\n",
              "  <thead>\n",
              "    <tr style=\"text-align: right;\">\n",
              "      <th></th>\n",
              "      <th>Country Rank</th>\n",
              "      <th>CPI 2015 Score</th>\n",
              "      <th>Number of Surveys Used</th>\n",
              "      <th>Std Error</th>\n",
              "      <th>Min</th>\n",
              "      <th>Max</th>\n",
              "      <th>90% Lower CI</th>\n",
              "      <th>90%Upper CI</th>\n",
              "      <th>World Bank CPIA</th>\n",
              "      <th>World  Economic Forum EOS</th>\n",
              "      <th>Bertelsmann  Foundation TI</th>\n",
              "      <th>Arican Development Bank</th>\n",
              "      <th>IMD World Competitiveness Year Book</th>\n",
              "      <th>Bertelsmann Foundation SGI</th>\n",
              "      <th>World Justice Project ROL</th>\n",
              "      <th>PRS Internationl Country Risk Guide</th>\n",
              "      <th>Economist Intelligence Unit</th>\n",
              "      <th>IHS Global Insight</th>\n",
              "      <th>PERC Asia Risk Guide</th>\n",
              "      <th>Freedom House NIT</th>\n",
              "    </tr>\n",
              "  </thead>\n",
              "  <tbody>\n",
              "    <tr>\n",
              "      <th>count</th>\n",
              "      <td>168.000000</td>\n",
              "      <td>168.000000</td>\n",
              "      <td>168.000000</td>\n",
              "      <td>168.00000</td>\n",
              "      <td>168.000000</td>\n",
              "      <td>168.000000</td>\n",
              "      <td>168.000000</td>\n",
              "      <td>168.000000</td>\n",
              "      <td>63.000000</td>\n",
              "      <td>145.000000</td>\n",
              "      <td>129.000000</td>\n",
              "      <td>40.000000</td>\n",
              "      <td>61.000000</td>\n",
              "      <td>41.000000</td>\n",
              "      <td>101.000000</td>\n",
              "      <td>138.000000</td>\n",
              "      <td>127.00000</td>\n",
              "      <td>166.000000</td>\n",
              "      <td>15.000000</td>\n",
              "      <td>29.000000</td>\n",
              "    </tr>\n",
              "    <tr>\n",
              "      <th>mean</th>\n",
              "      <td>83.160714</td>\n",
              "      <td>42.595238</td>\n",
              "      <td>6.279762</td>\n",
              "      <td>3.30381</td>\n",
              "      <td>32.053571</td>\n",
              "      <td>53.505952</td>\n",
              "      <td>37.184524</td>\n",
              "      <td>48.005952</td>\n",
              "      <td>29.460317</td>\n",
              "      <td>48.751724</td>\n",
              "      <td>36.248062</td>\n",
              "      <td>33.875000</td>\n",
              "      <td>56.836066</td>\n",
              "      <td>67.926829</td>\n",
              "      <td>41.950495</td>\n",
              "      <td>44.086957</td>\n",
              "      <td>45.23622</td>\n",
              "      <td>42.759036</td>\n",
              "      <td>51.866667</td>\n",
              "      <td>40.586207</td>\n",
              "    </tr>\n",
              "    <tr>\n",
              "      <th>std</th>\n",
              "      <td>48.265152</td>\n",
              "      <td>20.195819</td>\n",
              "      <td>1.600620</td>\n",
              "      <td>1.54643</td>\n",
              "      <td>20.394686</td>\n",
              "      <td>20.389911</td>\n",
              "      <td>20.659382</td>\n",
              "      <td>20.048593</td>\n",
              "      <td>14.051547</td>\n",
              "      <td>20.658779</td>\n",
              "      <td>16.611851</td>\n",
              "      <td>13.806701</td>\n",
              "      <td>22.392097</td>\n",
              "      <td>15.466723</td>\n",
              "      <td>23.978897</td>\n",
              "      <td>23.475559</td>\n",
              "      <td>20.85873</td>\n",
              "      <td>21.020100</td>\n",
              "      <td>18.488864</td>\n",
              "      <td>14.366422</td>\n",
              "    </tr>\n",
              "    <tr>\n",
              "      <th>min</th>\n",
              "      <td>1.000000</td>\n",
              "      <td>8.000000</td>\n",
              "      <td>3.000000</td>\n",
              "      <td>1.32000</td>\n",
              "      <td>0.000000</td>\n",
              "      <td>12.000000</td>\n",
              "      <td>2.000000</td>\n",
              "      <td>12.000000</td>\n",
              "      <td>0.000000</td>\n",
              "      <td>12.000000</td>\n",
              "      <td>6.000000</td>\n",
              "      <td>2.000000</td>\n",
              "      <td>25.000000</td>\n",
              "      <td>41.000000</td>\n",
              "      <td>2.000000</td>\n",
              "      <td>2.000000</td>\n",
              "      <td>21.00000</td>\n",
              "      <td>1.000000</td>\n",
              "      <td>31.000000</td>\n",
              "      <td>21.000000</td>\n",
              "    </tr>\n",
              "    <tr>\n",
              "      <th>25%</th>\n",
              "      <td>42.250000</td>\n",
              "      <td>28.000000</td>\n",
              "      <td>5.000000</td>\n",
              "      <td>2.31250</td>\n",
              "      <td>17.750000</td>\n",
              "      <td>39.500000</td>\n",
              "      <td>23.000000</td>\n",
              "      <td>34.000000</td>\n",
              "      <td>23.000000</td>\n",
              "      <td>33.000000</td>\n",
              "      <td>28.000000</td>\n",
              "      <td>22.000000</td>\n",
              "      <td>37.000000</td>\n",
              "      <td>57.000000</td>\n",
              "      <td>23.000000</td>\n",
              "      <td>31.000000</td>\n",
              "      <td>29.50000</td>\n",
              "      <td>32.000000</td>\n",
              "      <td>36.000000</td>\n",
              "      <td>26.000000</td>\n",
              "    </tr>\n",
              "    <tr>\n",
              "      <th>50%</th>\n",
              "      <td>83.000000</td>\n",
              "      <td>37.000000</td>\n",
              "      <td>6.500000</td>\n",
              "      <td>2.87000</td>\n",
              "      <td>28.000000</td>\n",
              "      <td>47.500000</td>\n",
              "      <td>32.500000</td>\n",
              "      <td>42.000000</td>\n",
              "      <td>35.000000</td>\n",
              "      <td>44.000000</td>\n",
              "      <td>36.000000</td>\n",
              "      <td>35.000000</td>\n",
              "      <td>53.000000</td>\n",
              "      <td>65.000000</td>\n",
              "      <td>34.000000</td>\n",
              "      <td>41.000000</td>\n",
              "      <td>38.00000</td>\n",
              "      <td>42.000000</td>\n",
              "      <td>46.000000</td>\n",
              "      <td>42.000000</td>\n",
              "    </tr>\n",
              "    <tr>\n",
              "      <th>75%</th>\n",
              "      <td>123.000000</td>\n",
              "      <td>54.250000</td>\n",
              "      <td>8.000000</td>\n",
              "      <td>3.85500</td>\n",
              "      <td>42.000000</td>\n",
              "      <td>70.000000</td>\n",
              "      <td>48.500000</td>\n",
              "      <td>62.000000</td>\n",
              "      <td>35.000000</td>\n",
              "      <td>61.000000</td>\n",
              "      <td>45.000000</td>\n",
              "      <td>45.000000</td>\n",
              "      <td>79.000000</td>\n",
              "      <td>81.000000</td>\n",
              "      <td>62.000000</td>\n",
              "      <td>57.500000</td>\n",
              "      <td>54.00000</td>\n",
              "      <td>63.000000</td>\n",
              "      <td>64.500000</td>\n",
              "      <td>52.000000</td>\n",
              "    </tr>\n",
              "    <tr>\n",
              "      <th>max</th>\n",
              "      <td>167.000000</td>\n",
              "      <td>91.000000</td>\n",
              "      <td>9.000000</td>\n",
              "      <td>9.07000</td>\n",
              "      <td>83.000000</td>\n",
              "      <td>98.000000</td>\n",
              "      <td>87.000000</td>\n",
              "      <td>95.000000</td>\n",
              "      <td>70.000000</td>\n",
              "      <td>93.000000</td>\n",
              "      <td>79.000000</td>\n",
              "      <td>60.000000</td>\n",
              "      <td>96.000000</td>\n",
              "      <td>97.000000</td>\n",
              "      <td>90.000000</td>\n",
              "      <td>98.000000</td>\n",
              "      <td>88.00000</td>\n",
              "      <td>83.000000</td>\n",
              "      <td>84.000000</td>\n",
              "      <td>66.000000</td>\n",
              "    </tr>\n",
              "  </tbody>\n",
              "</table>\n",
              "</div>"
            ],
            "text/plain": [
              "       Country Rank  CPI 2015 Score  ...  PERC Asia Risk Guide  Freedom House NIT\n",
              "count    168.000000      168.000000  ...             15.000000          29.000000\n",
              "mean      83.160714       42.595238  ...             51.866667          40.586207\n",
              "std       48.265152       20.195819  ...             18.488864          14.366422\n",
              "min        1.000000        8.000000  ...             31.000000          21.000000\n",
              "25%       42.250000       28.000000  ...             36.000000          26.000000\n",
              "50%       83.000000       37.000000  ...             46.000000          42.000000\n",
              "75%      123.000000       54.250000  ...             64.500000          52.000000\n",
              "max      167.000000       91.000000  ...             84.000000          66.000000\n",
              "\n",
              "[8 rows x 20 columns]"
            ]
          },
          "metadata": {},
          "execution_count": 7
        }
      ]
    },
    {
      "cell_type": "code",
      "metadata": {
        "colab": {
          "base_uri": "https://localhost:8080/"
        },
        "id": "kMf1xFMTs9W3",
        "outputId": "1e51b1ff-6d19-4d80-cc07-f7531fbe2cb0"
      },
      "source": [
        "cor15.columns"
      ],
      "execution_count": null,
      "outputs": [
        {
          "output_type": "execute_result",
          "data": {
            "text/plain": [
              "Index(['Country Rank', 'Country/Territory', 'Country Code', 'Region',\n",
              "       'CPI 2015 Score', 'Number of Surveys Used', 'Std Error', 'Min', 'Max',\n",
              "       '90% Lower CI', '90%Upper CI', 'World Bank CPIA',\n",
              "       'World  Economic Forum EOS', 'Bertelsmann  Foundation TI',\n",
              "       'Arican Development Bank', 'IMD World Competitiveness Year Book',\n",
              "       'Bertelsmann Foundation SGI', 'World Justice Project ROL',\n",
              "       'PRS Internationl Country Risk Guide', 'Economist Intelligence Unit',\n",
              "       'IHS Global Insight', 'PERC Asia Risk Guide', 'Freedom House NIT'],\n",
              "      dtype='object')"
            ]
          },
          "metadata": {},
          "execution_count": 8
        }
      ]
    },
    {
      "cell_type": "code",
      "metadata": {
        "id": "5jHqn3HBtT0T"
      },
      "source": [
        "cor15 = cor15.drop(columns = {'Country Code', 'Region','Number of Surveys Used', 'Std Error', 'Min', 'Max',\n",
        "       '90% Lower CI', '90%Upper CI', 'World Bank CPIA',\n",
        "       'World  Economic Forum EOS', 'Bertelsmann  Foundation TI',\n",
        "       'Arican Development Bank', 'IMD World Competitiveness Year Book',\n",
        "       'Bertelsmann Foundation SGI', 'World Justice Project ROL',\n",
        "       'PRS Internationl Country Risk Guide', 'Economist Intelligence Unit',\n",
        "       'IHS Global Insight', 'PERC Asia Risk Guide', 'Freedom House NIT'})\n",
        "cor15 = cor15.rename(columns = {'Country Rank': 'Rank', 'CPI 2015 Score' : 'Score', 'Country / Territory' : 'Country'})\n",
        "cor15['Year'] = '2015'"
      ],
      "execution_count": null,
      "outputs": []
    },
    {
      "cell_type": "code",
      "metadata": {
        "colab": {
          "base_uri": "https://localhost:8080/",
          "height": 204
        },
        "id": "Th_JSWkgwIQt",
        "outputId": "8f2f1d78-7e83-41ab-c10b-7ab211d3af5b"
      },
      "source": [
        "cor15.head()"
      ],
      "execution_count": null,
      "outputs": [
        {
          "output_type": "execute_result",
          "data": {
            "text/html": [
              "<div>\n",
              "<style scoped>\n",
              "    .dataframe tbody tr th:only-of-type {\n",
              "        vertical-align: middle;\n",
              "    }\n",
              "\n",
              "    .dataframe tbody tr th {\n",
              "        vertical-align: top;\n",
              "    }\n",
              "\n",
              "    .dataframe thead th {\n",
              "        text-align: right;\n",
              "    }\n",
              "</style>\n",
              "<table border=\"1\" class=\"dataframe\">\n",
              "  <thead>\n",
              "    <tr style=\"text-align: right;\">\n",
              "      <th></th>\n",
              "      <th>Rank</th>\n",
              "      <th>Country/Territory</th>\n",
              "      <th>Score</th>\n",
              "      <th>Year</th>\n",
              "    </tr>\n",
              "  </thead>\n",
              "  <tbody>\n",
              "    <tr>\n",
              "      <th>0</th>\n",
              "      <td>1</td>\n",
              "      <td>Denmark</td>\n",
              "      <td>91</td>\n",
              "      <td>2015</td>\n",
              "    </tr>\n",
              "    <tr>\n",
              "      <th>1</th>\n",
              "      <td>1</td>\n",
              "      <td>New Zealand</td>\n",
              "      <td>91</td>\n",
              "      <td>2015</td>\n",
              "    </tr>\n",
              "    <tr>\n",
              "      <th>2</th>\n",
              "      <td>3</td>\n",
              "      <td>Finland</td>\n",
              "      <td>90</td>\n",
              "      <td>2015</td>\n",
              "    </tr>\n",
              "    <tr>\n",
              "      <th>3</th>\n",
              "      <td>4</td>\n",
              "      <td>Sweden</td>\n",
              "      <td>89</td>\n",
              "      <td>2015</td>\n",
              "    </tr>\n",
              "    <tr>\n",
              "      <th>4</th>\n",
              "      <td>5</td>\n",
              "      <td>Norway</td>\n",
              "      <td>88</td>\n",
              "      <td>2015</td>\n",
              "    </tr>\n",
              "  </tbody>\n",
              "</table>\n",
              "</div>"
            ],
            "text/plain": [
              "   Rank Country/Territory  Score  Year\n",
              "0     1           Denmark     91  2015\n",
              "1     1       New Zealand     91  2015\n",
              "2     3           Finland     90  2015\n",
              "3     4            Sweden     89  2015\n",
              "4     5            Norway     88  2015"
            ]
          },
          "metadata": {},
          "execution_count": 10
        }
      ]
    },
    {
      "cell_type": "code",
      "metadata": {
        "colab": {
          "base_uri": "https://localhost:8080/"
        },
        "id": "qEjsEUYGx0hi",
        "outputId": "8195af5a-7e67-429d-c4c1-5f3ce9ed5453"
      },
      "source": [
        "cor15.columns"
      ],
      "execution_count": null,
      "outputs": [
        {
          "output_type": "execute_result",
          "data": {
            "text/plain": [
              "Index(['Rank', 'Country/Territory', 'Score', 'Year'], dtype='object')"
            ]
          },
          "metadata": {},
          "execution_count": 11
        }
      ]
    },
    {
      "cell_type": "code",
      "metadata": {
        "id": "x9f9leN4zEvY"
      },
      "source": [
        "##       'BF_TI', 'EIU_CRR', 'FH_NIT', 'GI_CRR', 'IMD2010', 'IMD2011',\n",
        "       #'PERC2010', 'PERC2011', 'PRS_ICRG', 'TI_BPI', 'WB_CPIA', 'WEF2010',\n",
        "       #'WEF2011', 'WJP_ROL'})\n",
        "#cor15 = cor15.rename(columns = {'Country Rank': 'Rank', 'CPI 2011 Score' : 'Score', 'Country / Territory' : 'Country'})\n",
        "#cor15['Year'] = '2015'"
      ],
      "execution_count": null,
      "outputs": []
    },
    {
      "cell_type": "code",
      "metadata": {
        "id": "rKS_1pUF4Ft4"
      },
      "source": [
        "#cor15 = cor15.drop(columns = {'Country Rank.1', 'Surveys Used', 'Standard Deviation', 'Maximum score',\n",
        " #      'Minimum score', '90% Confidence Interval (Lower bound)',\n",
        "  #     '90% Confidence Interval (Higher bound)', 'AFDB', 'ADB', 'BF_SGI',\n",
        "   #    'BF_TI', 'EIU_CRR', 'FH_NIT', 'GI_CRR', 'IMD2010', 'IMD2011',\n",
        "    #   'PERC2010', 'PERC2011', 'PRS_ICRG', 'TI_BPI', 'WB_CPIA', 'WEF2010',\n",
        "     #  'WEF2011', 'WJP_ROL'})\n",
        "#cor15 = cor15.rename(columns = {'Country Rank': 'Rank', 'CPI 2011 Score' : 'Score', 'Country / Territory' : 'Country'})\n",
        "#cor15['Year'] = '2015'"
      ],
      "execution_count": null,
      "outputs": []
    },
    {
      "cell_type": "code",
      "metadata": {
        "colab": {
          "base_uri": "https://localhost:8080/",
          "height": 204
        },
        "id": "bVMiEE9Yx8ya",
        "outputId": "569ea58a-1a48-46a4-ecaa-4c7b2d61034e"
      },
      "source": [
        "cor15.head()"
      ],
      "execution_count": null,
      "outputs": [
        {
          "output_type": "execute_result",
          "data": {
            "text/html": [
              "<div>\n",
              "<style scoped>\n",
              "    .dataframe tbody tr th:only-of-type {\n",
              "        vertical-align: middle;\n",
              "    }\n",
              "\n",
              "    .dataframe tbody tr th {\n",
              "        vertical-align: top;\n",
              "    }\n",
              "\n",
              "    .dataframe thead th {\n",
              "        text-align: right;\n",
              "    }\n",
              "</style>\n",
              "<table border=\"1\" class=\"dataframe\">\n",
              "  <thead>\n",
              "    <tr style=\"text-align: right;\">\n",
              "      <th></th>\n",
              "      <th>Rank</th>\n",
              "      <th>Country/Territory</th>\n",
              "      <th>Score</th>\n",
              "      <th>Year</th>\n",
              "    </tr>\n",
              "  </thead>\n",
              "  <tbody>\n",
              "    <tr>\n",
              "      <th>0</th>\n",
              "      <td>1</td>\n",
              "      <td>Denmark</td>\n",
              "      <td>91</td>\n",
              "      <td>2015</td>\n",
              "    </tr>\n",
              "    <tr>\n",
              "      <th>1</th>\n",
              "      <td>1</td>\n",
              "      <td>New Zealand</td>\n",
              "      <td>91</td>\n",
              "      <td>2015</td>\n",
              "    </tr>\n",
              "    <tr>\n",
              "      <th>2</th>\n",
              "      <td>3</td>\n",
              "      <td>Finland</td>\n",
              "      <td>90</td>\n",
              "      <td>2015</td>\n",
              "    </tr>\n",
              "    <tr>\n",
              "      <th>3</th>\n",
              "      <td>4</td>\n",
              "      <td>Sweden</td>\n",
              "      <td>89</td>\n",
              "      <td>2015</td>\n",
              "    </tr>\n",
              "    <tr>\n",
              "      <th>4</th>\n",
              "      <td>5</td>\n",
              "      <td>Norway</td>\n",
              "      <td>88</td>\n",
              "      <td>2015</td>\n",
              "    </tr>\n",
              "  </tbody>\n",
              "</table>\n",
              "</div>"
            ],
            "text/plain": [
              "   Rank Country/Territory  Score  Year\n",
              "0     1           Denmark     91  2015\n",
              "1     1       New Zealand     91  2015\n",
              "2     3           Finland     90  2015\n",
              "3     4            Sweden     89  2015\n",
              "4     5            Norway     88  2015"
            ]
          },
          "metadata": {},
          "execution_count": 14
        }
      ]
    },
    {
      "cell_type": "code",
      "metadata": {
        "id": "2v6xLAtfyjUD"
      },
      "source": [
        "cor15 = cor15.rename(columns={'Country/Territory':'Country'})"
      ],
      "execution_count": null,
      "outputs": []
    },
    {
      "cell_type": "code",
      "metadata": {
        "colab": {
          "base_uri": "https://localhost:8080/",
          "height": 204
        },
        "id": "usSG_jZ6y3Fc",
        "outputId": "e4686f5f-b1e5-46f2-9c5f-0c0810c1d7e0"
      },
      "source": [
        "cor15.head()"
      ],
      "execution_count": null,
      "outputs": [
        {
          "output_type": "execute_result",
          "data": {
            "text/html": [
              "<div>\n",
              "<style scoped>\n",
              "    .dataframe tbody tr th:only-of-type {\n",
              "        vertical-align: middle;\n",
              "    }\n",
              "\n",
              "    .dataframe tbody tr th {\n",
              "        vertical-align: top;\n",
              "    }\n",
              "\n",
              "    .dataframe thead th {\n",
              "        text-align: right;\n",
              "    }\n",
              "</style>\n",
              "<table border=\"1\" class=\"dataframe\">\n",
              "  <thead>\n",
              "    <tr style=\"text-align: right;\">\n",
              "      <th></th>\n",
              "      <th>Rank</th>\n",
              "      <th>Country</th>\n",
              "      <th>Score</th>\n",
              "      <th>Year</th>\n",
              "    </tr>\n",
              "  </thead>\n",
              "  <tbody>\n",
              "    <tr>\n",
              "      <th>0</th>\n",
              "      <td>1</td>\n",
              "      <td>Denmark</td>\n",
              "      <td>91</td>\n",
              "      <td>2015</td>\n",
              "    </tr>\n",
              "    <tr>\n",
              "      <th>1</th>\n",
              "      <td>1</td>\n",
              "      <td>New Zealand</td>\n",
              "      <td>91</td>\n",
              "      <td>2015</td>\n",
              "    </tr>\n",
              "    <tr>\n",
              "      <th>2</th>\n",
              "      <td>3</td>\n",
              "      <td>Finland</td>\n",
              "      <td>90</td>\n",
              "      <td>2015</td>\n",
              "    </tr>\n",
              "    <tr>\n",
              "      <th>3</th>\n",
              "      <td>4</td>\n",
              "      <td>Sweden</td>\n",
              "      <td>89</td>\n",
              "      <td>2015</td>\n",
              "    </tr>\n",
              "    <tr>\n",
              "      <th>4</th>\n",
              "      <td>5</td>\n",
              "      <td>Norway</td>\n",
              "      <td>88</td>\n",
              "      <td>2015</td>\n",
              "    </tr>\n",
              "  </tbody>\n",
              "</table>\n",
              "</div>"
            ],
            "text/plain": [
              "   Rank      Country  Score  Year\n",
              "0     1      Denmark     91  2015\n",
              "1     1  New Zealand     91  2015\n",
              "2     3      Finland     90  2015\n",
              "3     4       Sweden     89  2015\n",
              "4     5       Norway     88  2015"
            ]
          },
          "metadata": {},
          "execution_count": 16
        }
      ]
    },
    {
      "cell_type": "code",
      "metadata": {
        "colab": {
          "base_uri": "https://localhost:8080/",
          "height": 326
        },
        "id": "TridMuX0y7DG",
        "outputId": "84d232e4-3935-4205-9e15-93deb1f2e30a"
      },
      "source": [
        "cor16.head()"
      ],
      "execution_count": null,
      "outputs": [
        {
          "output_type": "execute_result",
          "data": {
            "text/html": [
              "<div>\n",
              "<style scoped>\n",
              "    .dataframe tbody tr th:only-of-type {\n",
              "        vertical-align: middle;\n",
              "    }\n",
              "\n",
              "    .dataframe tbody tr th {\n",
              "        vertical-align: top;\n",
              "    }\n",
              "\n",
              "    .dataframe thead th {\n",
              "        text-align: right;\n",
              "    }\n",
              "</style>\n",
              "<table border=\"1\" class=\"dataframe\">\n",
              "  <thead>\n",
              "    <tr style=\"text-align: right;\">\n",
              "      <th></th>\n",
              "      <th>Country</th>\n",
              "      <th>CPI2016</th>\n",
              "      <th>Rank</th>\n",
              "      <th>Region</th>\n",
              "      <th>WB Code</th>\n",
              "      <th>World Bank CPIA</th>\n",
              "      <th>World Economic Forum EOS</th>\n",
              "      <th>Global Insight Country Risk Ratings</th>\n",
              "      <th>Bertelsmann Foundation Transformation Index</th>\n",
              "      <th>African Development Bank CPIA</th>\n",
              "      <th>IMD World Competitiveness Yearbook</th>\n",
              "      <th>Bertelsmann Foundation Sustainable Governance Index</th>\n",
              "      <th>World Justice Project Rule of Law Index</th>\n",
              "      <th>PRS International Country Risk Guide</th>\n",
              "      <th>Varities of Democracy Project</th>\n",
              "      <th>Economist Intelligence Unit Country Ratings</th>\n",
              "      <th>Freedom House Nations in Transit Ratings</th>\n",
              "      <th>PERC Asia Risk Guide</th>\n",
              "      <th>Number of Sources</th>\n",
              "      <th>Std Error 2016</th>\n",
              "      <th>Lower CI</th>\n",
              "      <th>Upper CI</th>\n",
              "      <th>Min</th>\n",
              "      <th>Max</th>\n",
              "      <th>OECD</th>\n",
              "      <th>G20</th>\n",
              "      <th>BRICS</th>\n",
              "      <th>EU</th>\n",
              "      <th>Arab states</th>\n",
              "    </tr>\n",
              "  </thead>\n",
              "  <tbody>\n",
              "    <tr>\n",
              "      <th>0</th>\n",
              "      <td>New Zealand</td>\n",
              "      <td>90</td>\n",
              "      <td>1</td>\n",
              "      <td>AP</td>\n",
              "      <td>NZL</td>\n",
              "      <td>NaN</td>\n",
              "      <td>90.0</td>\n",
              "      <td>83</td>\n",
              "      <td>NaN</td>\n",
              "      <td>NaN</td>\n",
              "      <td>95.0</td>\n",
              "      <td>99.0</td>\n",
              "      <td>79.0</td>\n",
              "      <td>93.0</td>\n",
              "      <td>NaN</td>\n",
              "      <td>90.0</td>\n",
              "      <td>NaN</td>\n",
              "      <td>NaN</td>\n",
              "      <td>7</td>\n",
              "      <td>2.56</td>\n",
              "      <td>86</td>\n",
              "      <td>94</td>\n",
              "      <td>79</td>\n",
              "      <td>99</td>\n",
              "      <td>y</td>\n",
              "      <td>NaN</td>\n",
              "      <td>NaN</td>\n",
              "      <td>NaN</td>\n",
              "      <td>NaN</td>\n",
              "    </tr>\n",
              "    <tr>\n",
              "      <th>1</th>\n",
              "      <td>Denmark</td>\n",
              "      <td>90</td>\n",
              "      <td>1</td>\n",
              "      <td>WE/EU</td>\n",
              "      <td>DNK</td>\n",
              "      <td>NaN</td>\n",
              "      <td>85.0</td>\n",
              "      <td>83</td>\n",
              "      <td>NaN</td>\n",
              "      <td>NaN</td>\n",
              "      <td>98.0</td>\n",
              "      <td>99.0</td>\n",
              "      <td>85.0</td>\n",
              "      <td>93.0</td>\n",
              "      <td>NaN</td>\n",
              "      <td>90.0</td>\n",
              "      <td>NaN</td>\n",
              "      <td>NaN</td>\n",
              "      <td>7</td>\n",
              "      <td>2.46</td>\n",
              "      <td>86</td>\n",
              "      <td>94</td>\n",
              "      <td>83</td>\n",
              "      <td>99</td>\n",
              "      <td>y</td>\n",
              "      <td>NaN</td>\n",
              "      <td>NaN</td>\n",
              "      <td>y</td>\n",
              "      <td>NaN</td>\n",
              "    </tr>\n",
              "    <tr>\n",
              "      <th>2</th>\n",
              "      <td>Finland</td>\n",
              "      <td>89</td>\n",
              "      <td>3</td>\n",
              "      <td>WE/EU</td>\n",
              "      <td>FIN</td>\n",
              "      <td>NaN</td>\n",
              "      <td>91.0</td>\n",
              "      <td>83</td>\n",
              "      <td>NaN</td>\n",
              "      <td>NaN</td>\n",
              "      <td>94.0</td>\n",
              "      <td>90.0</td>\n",
              "      <td>85.0</td>\n",
              "      <td>93.0</td>\n",
              "      <td>NaN</td>\n",
              "      <td>90.0</td>\n",
              "      <td>NaN</td>\n",
              "      <td>NaN</td>\n",
              "      <td>7</td>\n",
              "      <td>1.46</td>\n",
              "      <td>87</td>\n",
              "      <td>92</td>\n",
              "      <td>83</td>\n",
              "      <td>94</td>\n",
              "      <td>y</td>\n",
              "      <td>NaN</td>\n",
              "      <td>NaN</td>\n",
              "      <td>y</td>\n",
              "      <td>NaN</td>\n",
              "    </tr>\n",
              "    <tr>\n",
              "      <th>3</th>\n",
              "      <td>Sweden</td>\n",
              "      <td>88</td>\n",
              "      <td>4</td>\n",
              "      <td>WE/EU</td>\n",
              "      <td>SWE</td>\n",
              "      <td>NaN</td>\n",
              "      <td>86.0</td>\n",
              "      <td>83</td>\n",
              "      <td>NaN</td>\n",
              "      <td>NaN</td>\n",
              "      <td>86.0</td>\n",
              "      <td>90.0</td>\n",
              "      <td>85.0</td>\n",
              "      <td>93.0</td>\n",
              "      <td>NaN</td>\n",
              "      <td>90.0</td>\n",
              "      <td>NaN</td>\n",
              "      <td>NaN</td>\n",
              "      <td>7</td>\n",
              "      <td>1.33</td>\n",
              "      <td>85</td>\n",
              "      <td>90</td>\n",
              "      <td>83</td>\n",
              "      <td>93</td>\n",
              "      <td>y</td>\n",
              "      <td>NaN</td>\n",
              "      <td>NaN</td>\n",
              "      <td>y</td>\n",
              "      <td>NaN</td>\n",
              "    </tr>\n",
              "    <tr>\n",
              "      <th>4</th>\n",
              "      <td>Switzerland</td>\n",
              "      <td>86</td>\n",
              "      <td>5</td>\n",
              "      <td>WE/EU</td>\n",
              "      <td>CHE</td>\n",
              "      <td>NaN</td>\n",
              "      <td>80.0</td>\n",
              "      <td>83</td>\n",
              "      <td>NaN</td>\n",
              "      <td>NaN</td>\n",
              "      <td>88.0</td>\n",
              "      <td>90.0</td>\n",
              "      <td>NaN</td>\n",
              "      <td>85.0</td>\n",
              "      <td>NaN</td>\n",
              "      <td>90.0</td>\n",
              "      <td>NaN</td>\n",
              "      <td>NaN</td>\n",
              "      <td>6</td>\n",
              "      <td>1.57</td>\n",
              "      <td>83</td>\n",
              "      <td>89</td>\n",
              "      <td>80</td>\n",
              "      <td>90</td>\n",
              "      <td>y</td>\n",
              "      <td>NaN</td>\n",
              "      <td>NaN</td>\n",
              "      <td>NaN</td>\n",
              "      <td>NaN</td>\n",
              "    </tr>\n",
              "  </tbody>\n",
              "</table>\n",
              "</div>"
            ],
            "text/plain": [
              "       Country  CPI2016  Rank Region WB Code  ...  OECD  G20  BRICS   EU  Arab states\n",
              "0  New Zealand       90     1     AP     NZL  ...     y  NaN    NaN  NaN          NaN\n",
              "1      Denmark       90     1  WE/EU     DNK  ...     y  NaN    NaN    y          NaN\n",
              "2      Finland       89     3  WE/EU     FIN  ...     y  NaN    NaN    y          NaN\n",
              "3       Sweden       88     4  WE/EU     SWE  ...     y  NaN    NaN    y          NaN\n",
              "4  Switzerland       86     5  WE/EU     CHE  ...     y  NaN    NaN  NaN          NaN\n",
              "\n",
              "[5 rows x 29 columns]"
            ]
          },
          "metadata": {},
          "execution_count": 17
        }
      ]
    },
    {
      "cell_type": "code",
      "metadata": {
        "colab": {
          "base_uri": "https://localhost:8080/"
        },
        "id": "PCqY9Ihrzm7p",
        "outputId": "80ed031b-0353-401c-ef0c-3dd542e8364b"
      },
      "source": [
        "cor16.columns"
      ],
      "execution_count": null,
      "outputs": [
        {
          "output_type": "execute_result",
          "data": {
            "text/plain": [
              "Index(['Country', 'CPI2016', 'Rank', 'Region', 'WB Code', 'World Bank CPIA',\n",
              "       'World Economic Forum EOS', 'Global Insight Country Risk Ratings',\n",
              "       'Bertelsmann Foundation Transformation Index',\n",
              "       'African Development Bank CPIA', 'IMD World Competitiveness Yearbook',\n",
              "       'Bertelsmann Foundation Sustainable Governance Index',\n",
              "       'World Justice Project Rule of Law Index',\n",
              "       'PRS International Country Risk Guide', 'Varities of Democracy Project',\n",
              "       'Economist Intelligence Unit Country Ratings',\n",
              "       'Freedom House Nations in Transit Ratings', 'PERC Asia Risk Guide',\n",
              "       'Number of Sources', 'Std Error 2016', 'Lower CI', 'Upper CI', 'Min',\n",
              "       'Max', 'OECD', 'G20', 'BRICS', 'EU', 'Arab states'],\n",
              "      dtype='object')"
            ]
          },
          "metadata": {},
          "execution_count": 18
        }
      ]
    },
    {
      "cell_type": "code",
      "metadata": {
        "id": "mU2msVvUzqHj"
      },
      "source": [
        "cor16 = cor16.drop(columns = {'Region', 'WB Code', 'World Bank CPIA',\n",
        "       'World Economic Forum EOS', 'Global Insight Country Risk Ratings',\n",
        "       'Bertelsmann Foundation Transformation Index',\n",
        "       'African Development Bank CPIA', 'IMD World Competitiveness Yearbook',\n",
        "       'Bertelsmann Foundation Sustainable Governance Index',\n",
        "       'World Justice Project Rule of Law Index',\n",
        "       'PRS International Country Risk Guide', 'Varities of Democracy Project',\n",
        "       'Economist Intelligence Unit Country Ratings',\n",
        "       'Freedom House Nations in Transit Ratings', 'PERC Asia Risk Guide',\n",
        "       'Number of Sources', 'Std Error 2016', 'Lower CI', 'Upper CI', 'Min',\n",
        "       'Max', 'OECD', 'G20', 'BRICS', 'EU', 'Arab states'})\n",
        "cor16 = cor16.rename(columns = {'CPI2016' : 'Score'})\n",
        "cor16['Year'] = '2016'"
      ],
      "execution_count": null,
      "outputs": []
    },
    {
      "cell_type": "code",
      "metadata": {
        "colab": {
          "base_uri": "https://localhost:8080/",
          "height": 204
        },
        "id": "OrVdm-4ozy7J",
        "outputId": "dd0e0411-2a44-4b37-fc8d-a60ad5b1e13e"
      },
      "source": [
        "cor16.head()"
      ],
      "execution_count": null,
      "outputs": [
        {
          "output_type": "execute_result",
          "data": {
            "text/html": [
              "<div>\n",
              "<style scoped>\n",
              "    .dataframe tbody tr th:only-of-type {\n",
              "        vertical-align: middle;\n",
              "    }\n",
              "\n",
              "    .dataframe tbody tr th {\n",
              "        vertical-align: top;\n",
              "    }\n",
              "\n",
              "    .dataframe thead th {\n",
              "        text-align: right;\n",
              "    }\n",
              "</style>\n",
              "<table border=\"1\" class=\"dataframe\">\n",
              "  <thead>\n",
              "    <tr style=\"text-align: right;\">\n",
              "      <th></th>\n",
              "      <th>Country</th>\n",
              "      <th>Score</th>\n",
              "      <th>Rank</th>\n",
              "      <th>Year</th>\n",
              "    </tr>\n",
              "  </thead>\n",
              "  <tbody>\n",
              "    <tr>\n",
              "      <th>0</th>\n",
              "      <td>New Zealand</td>\n",
              "      <td>90</td>\n",
              "      <td>1</td>\n",
              "      <td>2016</td>\n",
              "    </tr>\n",
              "    <tr>\n",
              "      <th>1</th>\n",
              "      <td>Denmark</td>\n",
              "      <td>90</td>\n",
              "      <td>1</td>\n",
              "      <td>2016</td>\n",
              "    </tr>\n",
              "    <tr>\n",
              "      <th>2</th>\n",
              "      <td>Finland</td>\n",
              "      <td>89</td>\n",
              "      <td>3</td>\n",
              "      <td>2016</td>\n",
              "    </tr>\n",
              "    <tr>\n",
              "      <th>3</th>\n",
              "      <td>Sweden</td>\n",
              "      <td>88</td>\n",
              "      <td>4</td>\n",
              "      <td>2016</td>\n",
              "    </tr>\n",
              "    <tr>\n",
              "      <th>4</th>\n",
              "      <td>Switzerland</td>\n",
              "      <td>86</td>\n",
              "      <td>5</td>\n",
              "      <td>2016</td>\n",
              "    </tr>\n",
              "  </tbody>\n",
              "</table>\n",
              "</div>"
            ],
            "text/plain": [
              "       Country  Score  Rank  Year\n",
              "0  New Zealand     90     1  2016\n",
              "1      Denmark     90     1  2016\n",
              "2      Finland     89     3  2016\n",
              "3       Sweden     88     4  2016\n",
              "4  Switzerland     86     5  2016"
            ]
          },
          "metadata": {},
          "execution_count": 20
        }
      ]
    },
    {
      "cell_type": "code",
      "metadata": {
        "colab": {
          "base_uri": "https://localhost:8080/",
          "height": 326
        },
        "id": "G-Ch62TI0jy5",
        "outputId": "7905eba3-b328-4864-8bc7-caa982243c4a"
      },
      "source": [
        "cor17.head()"
      ],
      "execution_count": null,
      "outputs": [
        {
          "output_type": "execute_result",
          "data": {
            "text/html": [
              "<div>\n",
              "<style scoped>\n",
              "    .dataframe tbody tr th:only-of-type {\n",
              "        vertical-align: middle;\n",
              "    }\n",
              "\n",
              "    .dataframe tbody tr th {\n",
              "        vertical-align: top;\n",
              "    }\n",
              "\n",
              "    .dataframe thead th {\n",
              "        text-align: right;\n",
              "    }\n",
              "</style>\n",
              "<table border=\"1\" class=\"dataframe\">\n",
              "  <thead>\n",
              "    <tr style=\"text-align: right;\">\n",
              "      <th></th>\n",
              "      <th>Country</th>\n",
              "      <th>ISO3</th>\n",
              "      <th>CPI Score 2017</th>\n",
              "      <th>Rank 2017</th>\n",
              "      <th>Standard error 2017</th>\n",
              "      <th>Lower CI 2017</th>\n",
              "      <th>Upper CI 2017</th>\n",
              "      <th>Sources</th>\n",
              "      <th>World Bank CPIA</th>\n",
              "      <th>World Economic Forum EOS</th>\n",
              "      <th>Global Insight Country Risk Ratings</th>\n",
              "      <th>Bertelsmann Foundation Transformation Index</th>\n",
              "      <th>African Development Bank CPIA</th>\n",
              "      <th>IMD World Competitiveness Yearbook</th>\n",
              "      <th>Bertelsmann Foundation Sustainable Governance Index</th>\n",
              "      <th>World Justice Project Rule of Law Index</th>\n",
              "      <th>PRS International Country Risk Guide</th>\n",
              "      <th>Varieties of Democracy Project</th>\n",
              "      <th>Economist Intelligence Unit Country Ratings</th>\n",
              "      <th>Freedom House Nations in Transit Ratings</th>\n",
              "      <th>PERC Asia Risk Guide</th>\n",
              "    </tr>\n",
              "  </thead>\n",
              "  <tbody>\n",
              "    <tr>\n",
              "      <th>0</th>\n",
              "      <td>New Zealand</td>\n",
              "      <td>NZL</td>\n",
              "      <td>89</td>\n",
              "      <td>1</td>\n",
              "      <td>2.40</td>\n",
              "      <td>85</td>\n",
              "      <td>93</td>\n",
              "      <td>8</td>\n",
              "      <td>NaN</td>\n",
              "      <td>92.0</td>\n",
              "      <td>83</td>\n",
              "      <td>NaN</td>\n",
              "      <td>NaN</td>\n",
              "      <td>93.0</td>\n",
              "      <td>97.0</td>\n",
              "      <td>82.0</td>\n",
              "      <td>93.0</td>\n",
              "      <td>77.0</td>\n",
              "      <td>90.0</td>\n",
              "      <td>NaN</td>\n",
              "      <td>NaN</td>\n",
              "    </tr>\n",
              "    <tr>\n",
              "      <th>1</th>\n",
              "      <td>Denmark</td>\n",
              "      <td>DNK</td>\n",
              "      <td>88</td>\n",
              "      <td>2</td>\n",
              "      <td>2.75</td>\n",
              "      <td>83</td>\n",
              "      <td>93</td>\n",
              "      <td>8</td>\n",
              "      <td>NaN</td>\n",
              "      <td>80.0</td>\n",
              "      <td>83</td>\n",
              "      <td>NaN</td>\n",
              "      <td>NaN</td>\n",
              "      <td>99.0</td>\n",
              "      <td>97.0</td>\n",
              "      <td>88.0</td>\n",
              "      <td>93.0</td>\n",
              "      <td>77.0</td>\n",
              "      <td>90.0</td>\n",
              "      <td>NaN</td>\n",
              "      <td>NaN</td>\n",
              "    </tr>\n",
              "    <tr>\n",
              "      <th>2</th>\n",
              "      <td>Switzerland</td>\n",
              "      <td>CHE</td>\n",
              "      <td>85</td>\n",
              "      <td>3</td>\n",
              "      <td>1.71</td>\n",
              "      <td>82</td>\n",
              "      <td>88</td>\n",
              "      <td>7</td>\n",
              "      <td>NaN</td>\n",
              "      <td>85.0</td>\n",
              "      <td>83</td>\n",
              "      <td>NaN</td>\n",
              "      <td>NaN</td>\n",
              "      <td>89.0</td>\n",
              "      <td>88.0</td>\n",
              "      <td>NaN</td>\n",
              "      <td>85.0</td>\n",
              "      <td>77.0</td>\n",
              "      <td>90.0</td>\n",
              "      <td>NaN</td>\n",
              "      <td>NaN</td>\n",
              "    </tr>\n",
              "    <tr>\n",
              "      <th>3</th>\n",
              "      <td>Norway</td>\n",
              "      <td>NOR</td>\n",
              "      <td>85</td>\n",
              "      <td>3</td>\n",
              "      <td>1.83</td>\n",
              "      <td>82</td>\n",
              "      <td>88</td>\n",
              "      <td>8</td>\n",
              "      <td>NaN</td>\n",
              "      <td>86.0</td>\n",
              "      <td>83</td>\n",
              "      <td>NaN</td>\n",
              "      <td>NaN</td>\n",
              "      <td>85.0</td>\n",
              "      <td>79.0</td>\n",
              "      <td>86.0</td>\n",
              "      <td>93.0</td>\n",
              "      <td>77.0</td>\n",
              "      <td>90.0</td>\n",
              "      <td>NaN</td>\n",
              "      <td>NaN</td>\n",
              "    </tr>\n",
              "    <tr>\n",
              "      <th>4</th>\n",
              "      <td>Finland</td>\n",
              "      <td>FIN</td>\n",
              "      <td>85</td>\n",
              "      <td>3</td>\n",
              "      <td>2.84</td>\n",
              "      <td>80</td>\n",
              "      <td>90</td>\n",
              "      <td>8</td>\n",
              "      <td>NaN</td>\n",
              "      <td>92.0</td>\n",
              "      <td>83</td>\n",
              "      <td>NaN</td>\n",
              "      <td>NaN</td>\n",
              "      <td>92.0</td>\n",
              "      <td>88.0</td>\n",
              "      <td>86.0</td>\n",
              "      <td>93.0</td>\n",
              "      <td>75.0</td>\n",
              "      <td>72.0</td>\n",
              "      <td>NaN</td>\n",
              "      <td>NaN</td>\n",
              "    </tr>\n",
              "  </tbody>\n",
              "</table>\n",
              "</div>"
            ],
            "text/plain": [
              "       Country  ... PERC Asia Risk Guide\n",
              "0  New Zealand  ...                  NaN\n",
              "1      Denmark  ...                  NaN\n",
              "2  Switzerland  ...                  NaN\n",
              "3       Norway  ...                  NaN\n",
              "4      Finland  ...                  NaN\n",
              "\n",
              "[5 rows x 21 columns]"
            ]
          },
          "metadata": {},
          "execution_count": 21
        }
      ]
    },
    {
      "cell_type": "code",
      "metadata": {
        "colab": {
          "base_uri": "https://localhost:8080/"
        },
        "id": "bxAPyd3N0ufx",
        "outputId": "aab36a3b-3338-49a4-a47e-ec1424fc44c3"
      },
      "source": [
        "cor17.columns"
      ],
      "execution_count": null,
      "outputs": [
        {
          "output_type": "execute_result",
          "data": {
            "text/plain": [
              "Index(['Country', 'ISO3', 'CPI Score 2017', 'Rank 2017', 'Standard error 2017',\n",
              "       'Lower CI 2017', 'Upper CI 2017', 'Sources', 'World Bank CPIA',\n",
              "       'World Economic Forum EOS', 'Global Insight Country Risk Ratings',\n",
              "       'Bertelsmann Foundation Transformation Index',\n",
              "       'African Development Bank CPIA', 'IMD World Competitiveness Yearbook',\n",
              "       'Bertelsmann Foundation Sustainable Governance Index',\n",
              "       'World Justice Project Rule of Law Index',\n",
              "       'PRS International Country Risk Guide',\n",
              "       'Varieties of Democracy Project',\n",
              "       'Economist Intelligence Unit Country Ratings',\n",
              "       'Freedom House Nations in Transit Ratings', 'PERC Asia Risk Guide'],\n",
              "      dtype='object')"
            ]
          },
          "metadata": {},
          "execution_count": 22
        }
      ]
    },
    {
      "cell_type": "code",
      "metadata": {
        "id": "tVhTH1TV0yZa"
      },
      "source": [
        "cor17 = cor17.drop(columns = {'ISO3', 'Standard error 2017',\n",
        "       'Lower CI 2017', 'Upper CI 2017', 'Sources', 'World Bank CPIA',\n",
        "       'World Economic Forum EOS', 'Global Insight Country Risk Ratings',\n",
        "       'Bertelsmann Foundation Transformation Index',\n",
        "       'African Development Bank CPIA', 'IMD World Competitiveness Yearbook',\n",
        "       'Bertelsmann Foundation Sustainable Governance Index',\n",
        "       'World Justice Project Rule of Law Index',\n",
        "       'PRS International Country Risk Guide',\n",
        "       'Varieties of Democracy Project',\n",
        "       'Economist Intelligence Unit Country Ratings',\n",
        "       'Freedom House Nations in Transit Ratings', 'PERC Asia Risk Guide'})\n",
        "cor17 = cor17.rename(columns = {'CPI Score 2017' : 'Score', 'Rank 2017': 'Rank'})\n",
        "cor17['Year'] = '2017'"
      ],
      "execution_count": null,
      "outputs": []
    },
    {
      "cell_type": "code",
      "metadata": {
        "colab": {
          "base_uri": "https://localhost:8080/",
          "height": 204
        },
        "id": "WsCCv_L-1jzu",
        "outputId": "5fd95424-5152-47af-b4f0-3586b70c0a72"
      },
      "source": [
        "cor17.head()"
      ],
      "execution_count": null,
      "outputs": [
        {
          "output_type": "execute_result",
          "data": {
            "text/html": [
              "<div>\n",
              "<style scoped>\n",
              "    .dataframe tbody tr th:only-of-type {\n",
              "        vertical-align: middle;\n",
              "    }\n",
              "\n",
              "    .dataframe tbody tr th {\n",
              "        vertical-align: top;\n",
              "    }\n",
              "\n",
              "    .dataframe thead th {\n",
              "        text-align: right;\n",
              "    }\n",
              "</style>\n",
              "<table border=\"1\" class=\"dataframe\">\n",
              "  <thead>\n",
              "    <tr style=\"text-align: right;\">\n",
              "      <th></th>\n",
              "      <th>Country</th>\n",
              "      <th>Score</th>\n",
              "      <th>Rank</th>\n",
              "      <th>Year</th>\n",
              "    </tr>\n",
              "  </thead>\n",
              "  <tbody>\n",
              "    <tr>\n",
              "      <th>0</th>\n",
              "      <td>New Zealand</td>\n",
              "      <td>89</td>\n",
              "      <td>1</td>\n",
              "      <td>2017</td>\n",
              "    </tr>\n",
              "    <tr>\n",
              "      <th>1</th>\n",
              "      <td>Denmark</td>\n",
              "      <td>88</td>\n",
              "      <td>2</td>\n",
              "      <td>2017</td>\n",
              "    </tr>\n",
              "    <tr>\n",
              "      <th>2</th>\n",
              "      <td>Switzerland</td>\n",
              "      <td>85</td>\n",
              "      <td>3</td>\n",
              "      <td>2017</td>\n",
              "    </tr>\n",
              "    <tr>\n",
              "      <th>3</th>\n",
              "      <td>Norway</td>\n",
              "      <td>85</td>\n",
              "      <td>3</td>\n",
              "      <td>2017</td>\n",
              "    </tr>\n",
              "    <tr>\n",
              "      <th>4</th>\n",
              "      <td>Finland</td>\n",
              "      <td>85</td>\n",
              "      <td>3</td>\n",
              "      <td>2017</td>\n",
              "    </tr>\n",
              "  </tbody>\n",
              "</table>\n",
              "</div>"
            ],
            "text/plain": [
              "       Country  Score  Rank  Year\n",
              "0  New Zealand     89     1  2017\n",
              "1      Denmark     88     2  2017\n",
              "2  Switzerland     85     3  2017\n",
              "3       Norway     85     3  2017\n",
              "4      Finland     85     3  2017"
            ]
          },
          "metadata": {},
          "execution_count": 24
        }
      ]
    },
    {
      "cell_type": "code",
      "metadata": {
        "colab": {
          "base_uri": "https://localhost:8080/",
          "height": 326
        },
        "id": "lL4RPh6h1mb_",
        "outputId": "40717f21-356b-426c-a032-1dfa1b9bcf56"
      },
      "source": [
        "cor18.head()"
      ],
      "execution_count": null,
      "outputs": [
        {
          "output_type": "execute_result",
          "data": {
            "text/html": [
              "<div>\n",
              "<style scoped>\n",
              "    .dataframe tbody tr th:only-of-type {\n",
              "        vertical-align: middle;\n",
              "    }\n",
              "\n",
              "    .dataframe tbody tr th {\n",
              "        vertical-align: top;\n",
              "    }\n",
              "\n",
              "    .dataframe thead th {\n",
              "        text-align: right;\n",
              "    }\n",
              "</style>\n",
              "<table border=\"1\" class=\"dataframe\">\n",
              "  <thead>\n",
              "    <tr style=\"text-align: right;\">\n",
              "      <th></th>\n",
              "      <th>Country</th>\n",
              "      <th>ISO3</th>\n",
              "      <th>Region</th>\n",
              "      <th>CPI Score 2018</th>\n",
              "      <th>Rank</th>\n",
              "      <th>Standard error</th>\n",
              "      <th>Number of sources</th>\n",
              "      <th>Upper CI</th>\n",
              "      <th>Lower CI</th>\n",
              "      <th>African Development Bank CPIA</th>\n",
              "      <th>Bertelsmann Foundation Sustainable Governance Index</th>\n",
              "      <th>Bertelsmann Foundation Transformation Index</th>\n",
              "      <th>Economist Intelligence Unit Country Ratings</th>\n",
              "      <th>Freedom House Nations in Transit Ratings</th>\n",
              "      <th>Global Insight Country Risk Ratings</th>\n",
              "      <th>IMD World Competitiveness Yearbook</th>\n",
              "      <th>PERC Asia Risk Guide</th>\n",
              "      <th>PRS International Country Risk Guide</th>\n",
              "      <th>World Bank CPIA</th>\n",
              "      <th>World Economic Forum EOS</th>\n",
              "      <th>World Justice Project Rule of Law Index</th>\n",
              "      <th>Varieties of Democracy Project</th>\n",
              "    </tr>\n",
              "  </thead>\n",
              "  <tbody>\n",
              "    <tr>\n",
              "      <th>0</th>\n",
              "      <td>Denmark</td>\n",
              "      <td>DNK</td>\n",
              "      <td>WE/EU</td>\n",
              "      <td>88</td>\n",
              "      <td>1</td>\n",
              "      <td>2.63</td>\n",
              "      <td>8</td>\n",
              "      <td>92</td>\n",
              "      <td>84</td>\n",
              "      <td>NaN</td>\n",
              "      <td>97.0</td>\n",
              "      <td>NaN</td>\n",
              "      <td>90.0</td>\n",
              "      <td>NaN</td>\n",
              "      <td>83</td>\n",
              "      <td>97.0</td>\n",
              "      <td>NaN</td>\n",
              "      <td>92.0</td>\n",
              "      <td>NaN</td>\n",
              "      <td>79.0</td>\n",
              "      <td>88.0</td>\n",
              "      <td>78.0</td>\n",
              "    </tr>\n",
              "    <tr>\n",
              "      <th>1</th>\n",
              "      <td>New Zealand</td>\n",
              "      <td>NZL</td>\n",
              "      <td>AP</td>\n",
              "      <td>87</td>\n",
              "      <td>2</td>\n",
              "      <td>2.44</td>\n",
              "      <td>8</td>\n",
              "      <td>91</td>\n",
              "      <td>83</td>\n",
              "      <td>NaN</td>\n",
              "      <td>97.0</td>\n",
              "      <td>NaN</td>\n",
              "      <td>90.0</td>\n",
              "      <td>NaN</td>\n",
              "      <td>83</td>\n",
              "      <td>92.0</td>\n",
              "      <td>NaN</td>\n",
              "      <td>93.0</td>\n",
              "      <td>NaN</td>\n",
              "      <td>83.0</td>\n",
              "      <td>82.0</td>\n",
              "      <td>77.0</td>\n",
              "    </tr>\n",
              "    <tr>\n",
              "      <th>2</th>\n",
              "      <td>Finland</td>\n",
              "      <td>FIN</td>\n",
              "      <td>WE/EU</td>\n",
              "      <td>85</td>\n",
              "      <td>3</td>\n",
              "      <td>2.74</td>\n",
              "      <td>8</td>\n",
              "      <td>89</td>\n",
              "      <td>81</td>\n",
              "      <td>NaN</td>\n",
              "      <td>88.0</td>\n",
              "      <td>NaN</td>\n",
              "      <td>72.0</td>\n",
              "      <td>NaN</td>\n",
              "      <td>83</td>\n",
              "      <td>93.0</td>\n",
              "      <td>NaN</td>\n",
              "      <td>93.0</td>\n",
              "      <td>NaN</td>\n",
              "      <td>90.0</td>\n",
              "      <td>86.0</td>\n",
              "      <td>76.0</td>\n",
              "    </tr>\n",
              "    <tr>\n",
              "      <th>3</th>\n",
              "      <td>Singapore</td>\n",
              "      <td>SGP</td>\n",
              "      <td>AP</td>\n",
              "      <td>85</td>\n",
              "      <td>3</td>\n",
              "      <td>1.98</td>\n",
              "      <td>9</td>\n",
              "      <td>88</td>\n",
              "      <td>82</td>\n",
              "      <td>NaN</td>\n",
              "      <td>NaN</td>\n",
              "      <td>73.0</td>\n",
              "      <td>90.0</td>\n",
              "      <td>NaN</td>\n",
              "      <td>83</td>\n",
              "      <td>90.0</td>\n",
              "      <td>89.0</td>\n",
              "      <td>85.0</td>\n",
              "      <td>NaN</td>\n",
              "      <td>90.0</td>\n",
              "      <td>85.0</td>\n",
              "      <td>78.0</td>\n",
              "    </tr>\n",
              "    <tr>\n",
              "      <th>4</th>\n",
              "      <td>Sweden</td>\n",
              "      <td>SWE</td>\n",
              "      <td>WE/EU</td>\n",
              "      <td>85</td>\n",
              "      <td>3</td>\n",
              "      <td>2.02</td>\n",
              "      <td>8</td>\n",
              "      <td>88</td>\n",
              "      <td>82</td>\n",
              "      <td>NaN</td>\n",
              "      <td>88.0</td>\n",
              "      <td>NaN</td>\n",
              "      <td>90.0</td>\n",
              "      <td>NaN</td>\n",
              "      <td>83</td>\n",
              "      <td>81.0</td>\n",
              "      <td>NaN</td>\n",
              "      <td>93.0</td>\n",
              "      <td>NaN</td>\n",
              "      <td>77.0</td>\n",
              "      <td>86.0</td>\n",
              "      <td>78.0</td>\n",
              "    </tr>\n",
              "  </tbody>\n",
              "</table>\n",
              "</div>"
            ],
            "text/plain": [
              "       Country  ... Varieties of Democracy Project\n",
              "0      Denmark  ...                           78.0\n",
              "1  New Zealand  ...                           77.0\n",
              "2      Finland  ...                           76.0\n",
              "3    Singapore  ...                           78.0\n",
              "4       Sweden  ...                           78.0\n",
              "\n",
              "[5 rows x 22 columns]"
            ]
          },
          "metadata": {},
          "execution_count": 25
        }
      ]
    },
    {
      "cell_type": "code",
      "metadata": {
        "colab": {
          "base_uri": "https://localhost:8080/"
        },
        "id": "rHsLS0sy1rWl",
        "outputId": "6eb8c74b-5e42-4e65-c5f9-4ab2437ca32f"
      },
      "source": [
        "cor18.columns"
      ],
      "execution_count": null,
      "outputs": [
        {
          "output_type": "execute_result",
          "data": {
            "text/plain": [
              "Index(['Country', 'ISO3', 'Region', 'CPI Score 2018', 'Rank ',\n",
              "       'Standard error', 'Number of sources', 'Upper CI', 'Lower CI ',\n",
              "       'African Development Bank CPIA',\n",
              "       'Bertelsmann Foundation Sustainable Governance Index',\n",
              "       'Bertelsmann Foundation Transformation Index',\n",
              "       'Economist Intelligence Unit Country Ratings',\n",
              "       'Freedom House Nations in Transit Ratings',\n",
              "       'Global Insight Country Risk Ratings',\n",
              "       'IMD World Competitiveness Yearbook', 'PERC Asia Risk Guide',\n",
              "       'PRS International Country Risk Guide', 'World Bank CPIA',\n",
              "       'World Economic Forum EOS', 'World Justice Project Rule of Law Index',\n",
              "       'Varieties of Democracy Project'],\n",
              "      dtype='object')"
            ]
          },
          "metadata": {},
          "execution_count": 26
        }
      ]
    },
    {
      "cell_type": "code",
      "metadata": {
        "id": "-RSJB5lX1uCk"
      },
      "source": [
        "cor18 = cor18.drop(columns = {'ISO3', 'Standard error', 'Number of sources', 'Upper CI', 'Lower CI ',\n",
        "       'African Development Bank CPIA',\n",
        "       'Bertelsmann Foundation Sustainable Governance Index',\n",
        "       'Bertelsmann Foundation Transformation Index',\n",
        "       'Economist Intelligence Unit Country Ratings',\n",
        "       'Freedom House Nations in Transit Ratings',\n",
        "       'Global Insight Country Risk Ratings',\n",
        "       'IMD World Competitiveness Yearbook', 'PERC Asia Risk Guide',\n",
        "       'PRS International Country Risk Guide', 'World Bank CPIA',\n",
        "       'World Economic Forum EOS', 'World Justice Project Rule of Law Index',\n",
        "       'Varieties of Democracy Project'})\n",
        "cor18 = cor18.rename(columns = {'CPI Score 2018' : 'Score'})\n",
        "cor18['Year'] = '2018'"
      ],
      "execution_count": null,
      "outputs": []
    },
    {
      "cell_type": "code",
      "metadata": {
        "colab": {
          "base_uri": "https://localhost:8080/",
          "height": 204
        },
        "id": "nVVJ9xft2MOq",
        "outputId": "df4336aa-9706-4371-da7d-568fd35e0270"
      },
      "source": [
        "cor18.head()"
      ],
      "execution_count": null,
      "outputs": [
        {
          "output_type": "execute_result",
          "data": {
            "text/html": [
              "<div>\n",
              "<style scoped>\n",
              "    .dataframe tbody tr th:only-of-type {\n",
              "        vertical-align: middle;\n",
              "    }\n",
              "\n",
              "    .dataframe tbody tr th {\n",
              "        vertical-align: top;\n",
              "    }\n",
              "\n",
              "    .dataframe thead th {\n",
              "        text-align: right;\n",
              "    }\n",
              "</style>\n",
              "<table border=\"1\" class=\"dataframe\">\n",
              "  <thead>\n",
              "    <tr style=\"text-align: right;\">\n",
              "      <th></th>\n",
              "      <th>Country</th>\n",
              "      <th>Region</th>\n",
              "      <th>Score</th>\n",
              "      <th>Rank</th>\n",
              "      <th>Year</th>\n",
              "    </tr>\n",
              "  </thead>\n",
              "  <tbody>\n",
              "    <tr>\n",
              "      <th>0</th>\n",
              "      <td>Denmark</td>\n",
              "      <td>WE/EU</td>\n",
              "      <td>88</td>\n",
              "      <td>1</td>\n",
              "      <td>2018</td>\n",
              "    </tr>\n",
              "    <tr>\n",
              "      <th>1</th>\n",
              "      <td>New Zealand</td>\n",
              "      <td>AP</td>\n",
              "      <td>87</td>\n",
              "      <td>2</td>\n",
              "      <td>2018</td>\n",
              "    </tr>\n",
              "    <tr>\n",
              "      <th>2</th>\n",
              "      <td>Finland</td>\n",
              "      <td>WE/EU</td>\n",
              "      <td>85</td>\n",
              "      <td>3</td>\n",
              "      <td>2018</td>\n",
              "    </tr>\n",
              "    <tr>\n",
              "      <th>3</th>\n",
              "      <td>Singapore</td>\n",
              "      <td>AP</td>\n",
              "      <td>85</td>\n",
              "      <td>3</td>\n",
              "      <td>2018</td>\n",
              "    </tr>\n",
              "    <tr>\n",
              "      <th>4</th>\n",
              "      <td>Sweden</td>\n",
              "      <td>WE/EU</td>\n",
              "      <td>85</td>\n",
              "      <td>3</td>\n",
              "      <td>2018</td>\n",
              "    </tr>\n",
              "  </tbody>\n",
              "</table>\n",
              "</div>"
            ],
            "text/plain": [
              "       Country Region  Score  Rank   Year\n",
              "0      Denmark  WE/EU     88      1  2018\n",
              "1  New Zealand     AP     87      2  2018\n",
              "2      Finland  WE/EU     85      3  2018\n",
              "3    Singapore     AP     85      3  2018\n",
              "4       Sweden  WE/EU     85      3  2018"
            ]
          },
          "metadata": {},
          "execution_count": 28
        }
      ]
    },
    {
      "cell_type": "code",
      "metadata": {
        "id": "hgO2PrLn2d6Q"
      },
      "source": [
        "cor18 = cor18.drop(columns={'Region'})"
      ],
      "execution_count": null,
      "outputs": []
    },
    {
      "cell_type": "code",
      "metadata": {
        "colab": {
          "base_uri": "https://localhost:8080/",
          "height": 204
        },
        "id": "HdcYtJEh2nNe",
        "outputId": "087ccbf7-3c78-4078-e598-7d189d6ba26a"
      },
      "source": [
        "cor18.head()"
      ],
      "execution_count": null,
      "outputs": [
        {
          "output_type": "execute_result",
          "data": {
            "text/html": [
              "<div>\n",
              "<style scoped>\n",
              "    .dataframe tbody tr th:only-of-type {\n",
              "        vertical-align: middle;\n",
              "    }\n",
              "\n",
              "    .dataframe tbody tr th {\n",
              "        vertical-align: top;\n",
              "    }\n",
              "\n",
              "    .dataframe thead th {\n",
              "        text-align: right;\n",
              "    }\n",
              "</style>\n",
              "<table border=\"1\" class=\"dataframe\">\n",
              "  <thead>\n",
              "    <tr style=\"text-align: right;\">\n",
              "      <th></th>\n",
              "      <th>Country</th>\n",
              "      <th>Score</th>\n",
              "      <th>Rank</th>\n",
              "      <th>Year</th>\n",
              "    </tr>\n",
              "  </thead>\n",
              "  <tbody>\n",
              "    <tr>\n",
              "      <th>0</th>\n",
              "      <td>Denmark</td>\n",
              "      <td>88</td>\n",
              "      <td>1</td>\n",
              "      <td>2018</td>\n",
              "    </tr>\n",
              "    <tr>\n",
              "      <th>1</th>\n",
              "      <td>New Zealand</td>\n",
              "      <td>87</td>\n",
              "      <td>2</td>\n",
              "      <td>2018</td>\n",
              "    </tr>\n",
              "    <tr>\n",
              "      <th>2</th>\n",
              "      <td>Finland</td>\n",
              "      <td>85</td>\n",
              "      <td>3</td>\n",
              "      <td>2018</td>\n",
              "    </tr>\n",
              "    <tr>\n",
              "      <th>3</th>\n",
              "      <td>Singapore</td>\n",
              "      <td>85</td>\n",
              "      <td>3</td>\n",
              "      <td>2018</td>\n",
              "    </tr>\n",
              "    <tr>\n",
              "      <th>4</th>\n",
              "      <td>Sweden</td>\n",
              "      <td>85</td>\n",
              "      <td>3</td>\n",
              "      <td>2018</td>\n",
              "    </tr>\n",
              "  </tbody>\n",
              "</table>\n",
              "</div>"
            ],
            "text/plain": [
              "       Country  Score  Rank   Year\n",
              "0      Denmark     88      1  2018\n",
              "1  New Zealand     87      2  2018\n",
              "2      Finland     85      3  2018\n",
              "3    Singapore     85      3  2018\n",
              "4       Sweden     85      3  2018"
            ]
          },
          "metadata": {},
          "execution_count": 30
        }
      ]
    },
    {
      "cell_type": "code",
      "metadata": {
        "colab": {
          "base_uri": "https://localhost:8080/",
          "height": 326
        },
        "id": "vwMX2EIO27Iw",
        "outputId": "8e75f981-e2b0-4b31-f07e-bd97ebabf7d1"
      },
      "source": [
        "cor19.head()"
      ],
      "execution_count": null,
      "outputs": [
        {
          "output_type": "execute_result",
          "data": {
            "text/html": [
              "<div>\n",
              "<style scoped>\n",
              "    .dataframe tbody tr th:only-of-type {\n",
              "        vertical-align: middle;\n",
              "    }\n",
              "\n",
              "    .dataframe tbody tr th {\n",
              "        vertical-align: top;\n",
              "    }\n",
              "\n",
              "    .dataframe thead th {\n",
              "        text-align: right;\n",
              "    }\n",
              "</style>\n",
              "<table border=\"1\" class=\"dataframe\">\n",
              "  <thead>\n",
              "    <tr style=\"text-align: right;\">\n",
              "      <th></th>\n",
              "      <th>Country</th>\n",
              "      <th>ISO3</th>\n",
              "      <th>Region</th>\n",
              "      <th>CPI score 2019</th>\n",
              "      <th>Rank</th>\n",
              "      <th>standard error</th>\n",
              "      <th>Number of sources</th>\n",
              "      <th>Lower CI</th>\n",
              "      <th>Upper CI</th>\n",
              "      <th>African Development Bank CPIA</th>\n",
              "      <th>Bertelsmann Foundation Sustainable Governance Index</th>\n",
              "      <th>Bertelsmann Foundation Transformation Index</th>\n",
              "      <th>Economist Intelligence Unit Country Ratings</th>\n",
              "      <th>Freedom House Nations in Transit Ratings</th>\n",
              "      <th>Global Insight Country Risk Ratings</th>\n",
              "      <th>IMD World Competitiveness Yearbook</th>\n",
              "      <th>PERC Asia Risk Guide</th>\n",
              "      <th>PRS International Country Risk Guide</th>\n",
              "      <th>Varieties of Democracy Project</th>\n",
              "      <th>World Bank CPIA</th>\n",
              "      <th>World Economic Forum EOS</th>\n",
              "      <th>World Justice Project Rule of Law Index</th>\n",
              "    </tr>\n",
              "  </thead>\n",
              "  <tbody>\n",
              "    <tr>\n",
              "      <th>0</th>\n",
              "      <td>Denmark</td>\n",
              "      <td>DNK</td>\n",
              "      <td>WE/EU</td>\n",
              "      <td>87</td>\n",
              "      <td>1</td>\n",
              "      <td>2.542474</td>\n",
              "      <td>8</td>\n",
              "      <td>82.83035</td>\n",
              "      <td>91.16965</td>\n",
              "      <td>NaN</td>\n",
              "      <td>96.99364</td>\n",
              "      <td>NaN</td>\n",
              "      <td>89.67447</td>\n",
              "      <td>NaN</td>\n",
              "      <td>83.25637</td>\n",
              "      <td>93.78233</td>\n",
              "      <td>NaN</td>\n",
              "      <td>93.38018</td>\n",
              "      <td>77.44470</td>\n",
              "      <td>NaN</td>\n",
              "      <td>79.05014</td>\n",
              "      <td>85.88441</td>\n",
              "    </tr>\n",
              "    <tr>\n",
              "      <th>1</th>\n",
              "      <td>New Zealand</td>\n",
              "      <td>NZL</td>\n",
              "      <td>AP</td>\n",
              "      <td>87</td>\n",
              "      <td>1</td>\n",
              "      <td>2.286490</td>\n",
              "      <td>8</td>\n",
              "      <td>83.25015</td>\n",
              "      <td>90.74985</td>\n",
              "      <td>NaN</td>\n",
              "      <td>96.99364</td>\n",
              "      <td>NaN</td>\n",
              "      <td>89.67447</td>\n",
              "      <td>NaN</td>\n",
              "      <td>83.25637</td>\n",
              "      <td>83.33897</td>\n",
              "      <td>NaN</td>\n",
              "      <td>93.38018</td>\n",
              "      <td>77.44470</td>\n",
              "      <td>NaN</td>\n",
              "      <td>89.04585</td>\n",
              "      <td>82.29129</td>\n",
              "    </tr>\n",
              "    <tr>\n",
              "      <th>2</th>\n",
              "      <td>Finland</td>\n",
              "      <td>FIN</td>\n",
              "      <td>WE/EU</td>\n",
              "      <td>86</td>\n",
              "      <td>3</td>\n",
              "      <td>2.924511</td>\n",
              "      <td>8</td>\n",
              "      <td>81.20380</td>\n",
              "      <td>90.79620</td>\n",
              "      <td>NaN</td>\n",
              "      <td>88.12477</td>\n",
              "      <td>NaN</td>\n",
              "      <td>72.20404</td>\n",
              "      <td>NaN</td>\n",
              "      <td>83.25637</td>\n",
              "      <td>93.86793</td>\n",
              "      <td>NaN</td>\n",
              "      <td>93.38018</td>\n",
              "      <td>75.27449</td>\n",
              "      <td>NaN</td>\n",
              "      <td>92.72847</td>\n",
              "      <td>86.78268</td>\n",
              "    </tr>\n",
              "    <tr>\n",
              "      <th>3</th>\n",
              "      <td>Singapore</td>\n",
              "      <td>SGP</td>\n",
              "      <td>AP</td>\n",
              "      <td>85</td>\n",
              "      <td>4</td>\n",
              "      <td>2.048400</td>\n",
              "      <td>9</td>\n",
              "      <td>81.64063</td>\n",
              "      <td>88.35938</td>\n",
              "      <td>NaN</td>\n",
              "      <td>NaN</td>\n",
              "      <td>72.74066</td>\n",
              "      <td>89.67447</td>\n",
              "      <td>NaN</td>\n",
              "      <td>83.25637</td>\n",
              "      <td>90.87188</td>\n",
              "      <td>89.10267</td>\n",
              "      <td>84.67139</td>\n",
              "      <td>77.44470</td>\n",
              "      <td>NaN</td>\n",
              "      <td>89.39657</td>\n",
              "      <td>84.98613</td>\n",
              "    </tr>\n",
              "    <tr>\n",
              "      <th>4</th>\n",
              "      <td>Sweden</td>\n",
              "      <td>SWE</td>\n",
              "      <td>WE/EU</td>\n",
              "      <td>85</td>\n",
              "      <td>4</td>\n",
              "      <td>1.977693</td>\n",
              "      <td>8</td>\n",
              "      <td>81.75658</td>\n",
              "      <td>88.24342</td>\n",
              "      <td>NaN</td>\n",
              "      <td>88.12477</td>\n",
              "      <td>NaN</td>\n",
              "      <td>89.67447</td>\n",
              "      <td>NaN</td>\n",
              "      <td>83.25637</td>\n",
              "      <td>83.51017</td>\n",
              "      <td>NaN</td>\n",
              "      <td>93.38018</td>\n",
              "      <td>78.16811</td>\n",
              "      <td>NaN</td>\n",
              "      <td>77.12115</td>\n",
              "      <td>86.78268</td>\n",
              "    </tr>\n",
              "  </tbody>\n",
              "</table>\n",
              "</div>"
            ],
            "text/plain": [
              "       Country  ... World Justice Project Rule of Law Index\n",
              "0      Denmark  ...                                85.88441\n",
              "1  New Zealand  ...                                82.29129\n",
              "2      Finland  ...                                86.78268\n",
              "3    Singapore  ...                                84.98613\n",
              "4       Sweden  ...                                86.78268\n",
              "\n",
              "[5 rows x 22 columns]"
            ]
          },
          "metadata": {},
          "execution_count": 31
        }
      ]
    },
    {
      "cell_type": "code",
      "metadata": {
        "colab": {
          "base_uri": "https://localhost:8080/"
        },
        "id": "jooS-2Gt3Bd9",
        "outputId": "db238f48-06ce-4f90-9ae5-7690508dc7e6"
      },
      "source": [
        "cor19.columns"
      ],
      "execution_count": null,
      "outputs": [
        {
          "output_type": "execute_result",
          "data": {
            "text/plain": [
              "Index(['Country', 'ISO3', 'Region', 'CPI score 2019', 'Rank',\n",
              "       'standard error ', 'Number of sources', 'Lower CI', 'Upper CI',\n",
              "       'African Development Bank CPIA',\n",
              "       'Bertelsmann Foundation Sustainable Governance Index',\n",
              "       'Bertelsmann Foundation Transformation Index',\n",
              "       'Economist Intelligence Unit Country Ratings',\n",
              "       'Freedom House Nations in Transit Ratings',\n",
              "       'Global Insight Country Risk Ratings',\n",
              "       'IMD World Competitiveness Yearbook', 'PERC Asia Risk Guide',\n",
              "       'PRS International Country Risk Guide',\n",
              "       'Varieties of Democracy Project', 'World Bank CPIA',\n",
              "       'World Economic Forum EOS', 'World Justice Project Rule of Law Index'],\n",
              "      dtype='object')"
            ]
          },
          "metadata": {},
          "execution_count": 32
        }
      ]
    },
    {
      "cell_type": "code",
      "metadata": {
        "id": "wzaEsbt53D4B"
      },
      "source": [
        "cor19 = cor19.drop(columns = {'ISO3',  'Region', 'standard error ', 'Number of sources', 'Lower CI', 'Upper CI',\n",
        "       'African Development Bank CPIA',\n",
        "       'Bertelsmann Foundation Sustainable Governance Index',\n",
        "       'Bertelsmann Foundation Transformation Index',\n",
        "       'Economist Intelligence Unit Country Ratings',\n",
        "       'Freedom House Nations in Transit Ratings',\n",
        "       'Global Insight Country Risk Ratings',\n",
        "       'IMD World Competitiveness Yearbook', 'PERC Asia Risk Guide',\n",
        "       'PRS International Country Risk Guide',\n",
        "       'Varieties of Democracy Project', 'World Bank CPIA',\n",
        "       'World Economic Forum EOS', 'World Justice Project Rule of Law Index'})\n",
        "cor19 = cor18.rename(columns = {'CPI Score 2019' : 'Score'})\n",
        "cor19['Year'] = '2019'"
      ],
      "execution_count": null,
      "outputs": []
    },
    {
      "cell_type": "code",
      "metadata": {
        "colab": {
          "base_uri": "https://localhost:8080/",
          "height": 204
        },
        "id": "_vR_6vE83lBB",
        "outputId": "a6df8a0d-970c-40ea-8e34-53be16bb0b00"
      },
      "source": [
        "cor19.head()"
      ],
      "execution_count": null,
      "outputs": [
        {
          "output_type": "execute_result",
          "data": {
            "text/html": [
              "<div>\n",
              "<style scoped>\n",
              "    .dataframe tbody tr th:only-of-type {\n",
              "        vertical-align: middle;\n",
              "    }\n",
              "\n",
              "    .dataframe tbody tr th {\n",
              "        vertical-align: top;\n",
              "    }\n",
              "\n",
              "    .dataframe thead th {\n",
              "        text-align: right;\n",
              "    }\n",
              "</style>\n",
              "<table border=\"1\" class=\"dataframe\">\n",
              "  <thead>\n",
              "    <tr style=\"text-align: right;\">\n",
              "      <th></th>\n",
              "      <th>Country</th>\n",
              "      <th>Score</th>\n",
              "      <th>Rank</th>\n",
              "      <th>Year</th>\n",
              "    </tr>\n",
              "  </thead>\n",
              "  <tbody>\n",
              "    <tr>\n",
              "      <th>0</th>\n",
              "      <td>Denmark</td>\n",
              "      <td>88</td>\n",
              "      <td>1</td>\n",
              "      <td>2019</td>\n",
              "    </tr>\n",
              "    <tr>\n",
              "      <th>1</th>\n",
              "      <td>New Zealand</td>\n",
              "      <td>87</td>\n",
              "      <td>2</td>\n",
              "      <td>2019</td>\n",
              "    </tr>\n",
              "    <tr>\n",
              "      <th>2</th>\n",
              "      <td>Finland</td>\n",
              "      <td>85</td>\n",
              "      <td>3</td>\n",
              "      <td>2019</td>\n",
              "    </tr>\n",
              "    <tr>\n",
              "      <th>3</th>\n",
              "      <td>Singapore</td>\n",
              "      <td>85</td>\n",
              "      <td>3</td>\n",
              "      <td>2019</td>\n",
              "    </tr>\n",
              "    <tr>\n",
              "      <th>4</th>\n",
              "      <td>Sweden</td>\n",
              "      <td>85</td>\n",
              "      <td>3</td>\n",
              "      <td>2019</td>\n",
              "    </tr>\n",
              "  </tbody>\n",
              "</table>\n",
              "</div>"
            ],
            "text/plain": [
              "       Country  Score  Rank   Year\n",
              "0      Denmark     88      1  2019\n",
              "1  New Zealand     87      2  2019\n",
              "2      Finland     85      3  2019\n",
              "3    Singapore     85      3  2019\n",
              "4       Sweden     85      3  2019"
            ]
          },
          "metadata": {},
          "execution_count": 34
        }
      ]
    },
    {
      "cell_type": "code",
      "metadata": {
        "id": "hOxrFiJt3m81"
      },
      "source": [
        "cor_all = pd.concat([cor15,cor16,cor17,cor18,cor19])"
      ],
      "execution_count": null,
      "outputs": []
    },
    {
      "cell_type": "code",
      "metadata": {
        "colab": {
          "base_uri": "https://localhost:8080/",
          "height": 204
        },
        "id": "vJxCtdzY4ltn",
        "outputId": "5add54a2-2d9d-42d9-f645-9a1941628ee4"
      },
      "source": [
        "cor_all.head()"
      ],
      "execution_count": null,
      "outputs": [
        {
          "output_type": "execute_result",
          "data": {
            "text/html": [
              "<div>\n",
              "<style scoped>\n",
              "    .dataframe tbody tr th:only-of-type {\n",
              "        vertical-align: middle;\n",
              "    }\n",
              "\n",
              "    .dataframe tbody tr th {\n",
              "        vertical-align: top;\n",
              "    }\n",
              "\n",
              "    .dataframe thead th {\n",
              "        text-align: right;\n",
              "    }\n",
              "</style>\n",
              "<table border=\"1\" class=\"dataframe\">\n",
              "  <thead>\n",
              "    <tr style=\"text-align: right;\">\n",
              "      <th></th>\n",
              "      <th>Rank</th>\n",
              "      <th>Country</th>\n",
              "      <th>Score</th>\n",
              "      <th>Year</th>\n",
              "      <th>Rank</th>\n",
              "    </tr>\n",
              "  </thead>\n",
              "  <tbody>\n",
              "    <tr>\n",
              "      <th>0</th>\n",
              "      <td>1.0</td>\n",
              "      <td>Denmark</td>\n",
              "      <td>91</td>\n",
              "      <td>2015</td>\n",
              "      <td>NaN</td>\n",
              "    </tr>\n",
              "    <tr>\n",
              "      <th>1</th>\n",
              "      <td>1.0</td>\n",
              "      <td>New Zealand</td>\n",
              "      <td>91</td>\n",
              "      <td>2015</td>\n",
              "      <td>NaN</td>\n",
              "    </tr>\n",
              "    <tr>\n",
              "      <th>2</th>\n",
              "      <td>3.0</td>\n",
              "      <td>Finland</td>\n",
              "      <td>90</td>\n",
              "      <td>2015</td>\n",
              "      <td>NaN</td>\n",
              "    </tr>\n",
              "    <tr>\n",
              "      <th>3</th>\n",
              "      <td>4.0</td>\n",
              "      <td>Sweden</td>\n",
              "      <td>89</td>\n",
              "      <td>2015</td>\n",
              "      <td>NaN</td>\n",
              "    </tr>\n",
              "    <tr>\n",
              "      <th>4</th>\n",
              "      <td>5.0</td>\n",
              "      <td>Norway</td>\n",
              "      <td>88</td>\n",
              "      <td>2015</td>\n",
              "      <td>NaN</td>\n",
              "    </tr>\n",
              "  </tbody>\n",
              "</table>\n",
              "</div>"
            ],
            "text/plain": [
              "   Rank      Country  Score  Year  Rank \n",
              "0   1.0      Denmark     91  2015    NaN\n",
              "1   1.0  New Zealand     91  2015    NaN\n",
              "2   3.0      Finland     90  2015    NaN\n",
              "3   4.0       Sweden     89  2015    NaN\n",
              "4   5.0       Norway     88  2015    NaN"
            ]
          },
          "metadata": {},
          "execution_count": 36
        }
      ]
    },
    {
      "cell_type": "code",
      "metadata": {
        "colab": {
          "base_uri": "https://localhost:8080/"
        },
        "id": "CImoXfIq4sCR",
        "outputId": "363f11b5-fc7e-4fe8-c2f4-a23e2c4d5af2"
      },
      "source": [
        "cor_all.info()"
      ],
      "execution_count": null,
      "outputs": [
        {
          "output_type": "stream",
          "name": "stdout",
          "text": [
            "<class 'pandas.core.frame.DataFrame'>\n",
            "Int64Index: 884 entries, 0 to 179\n",
            "Data columns (total 5 columns):\n",
            " #   Column   Non-Null Count  Dtype  \n",
            "---  ------   --------------  -----  \n",
            " 0   Rank     524 non-null    float64\n",
            " 1   Country  884 non-null    object \n",
            " 2   Score    884 non-null    int64  \n",
            " 3   Year     884 non-null    object \n",
            " 4   Rank     360 non-null    float64\n",
            "dtypes: float64(2), int64(1), object(2)\n",
            "memory usage: 41.4+ KB\n"
          ]
        }
      ]
    },
    {
      "cell_type": "code",
      "metadata": {
        "colab": {
          "base_uri": "https://localhost:8080/",
          "height": 204
        },
        "id": "8hX8PqMR6lc_",
        "outputId": "b782a8da-074e-444b-8c33-270bdcc122cc"
      },
      "source": [
        "cor_all.head()"
      ],
      "execution_count": null,
      "outputs": [
        {
          "output_type": "execute_result",
          "data": {
            "text/html": [
              "<div>\n",
              "<style scoped>\n",
              "    .dataframe tbody tr th:only-of-type {\n",
              "        vertical-align: middle;\n",
              "    }\n",
              "\n",
              "    .dataframe tbody tr th {\n",
              "        vertical-align: top;\n",
              "    }\n",
              "\n",
              "    .dataframe thead th {\n",
              "        text-align: right;\n",
              "    }\n",
              "</style>\n",
              "<table border=\"1\" class=\"dataframe\">\n",
              "  <thead>\n",
              "    <tr style=\"text-align: right;\">\n",
              "      <th></th>\n",
              "      <th>Rank</th>\n",
              "      <th>Country</th>\n",
              "      <th>Score</th>\n",
              "      <th>Year</th>\n",
              "      <th>Rank</th>\n",
              "    </tr>\n",
              "  </thead>\n",
              "  <tbody>\n",
              "    <tr>\n",
              "      <th>0</th>\n",
              "      <td>1.0</td>\n",
              "      <td>Denmark</td>\n",
              "      <td>91</td>\n",
              "      <td>2015</td>\n",
              "      <td>NaN</td>\n",
              "    </tr>\n",
              "    <tr>\n",
              "      <th>1</th>\n",
              "      <td>1.0</td>\n",
              "      <td>New Zealand</td>\n",
              "      <td>91</td>\n",
              "      <td>2015</td>\n",
              "      <td>NaN</td>\n",
              "    </tr>\n",
              "    <tr>\n",
              "      <th>2</th>\n",
              "      <td>3.0</td>\n",
              "      <td>Finland</td>\n",
              "      <td>90</td>\n",
              "      <td>2015</td>\n",
              "      <td>NaN</td>\n",
              "    </tr>\n",
              "    <tr>\n",
              "      <th>3</th>\n",
              "      <td>4.0</td>\n",
              "      <td>Sweden</td>\n",
              "      <td>89</td>\n",
              "      <td>2015</td>\n",
              "      <td>NaN</td>\n",
              "    </tr>\n",
              "    <tr>\n",
              "      <th>4</th>\n",
              "      <td>5.0</td>\n",
              "      <td>Norway</td>\n",
              "      <td>88</td>\n",
              "      <td>2015</td>\n",
              "      <td>NaN</td>\n",
              "    </tr>\n",
              "  </tbody>\n",
              "</table>\n",
              "</div>"
            ],
            "text/plain": [
              "   Rank      Country  Score  Year  Rank \n",
              "0   1.0      Denmark     91  2015    NaN\n",
              "1   1.0  New Zealand     91  2015    NaN\n",
              "2   3.0      Finland     90  2015    NaN\n",
              "3   4.0       Sweden     89  2015    NaN\n",
              "4   5.0       Norway     88  2015    NaN"
            ]
          },
          "metadata": {},
          "execution_count": 38
        }
      ]
    },
    {
      "cell_type": "code",
      "metadata": {
        "colab": {
          "base_uri": "https://localhost:8080/"
        },
        "id": "TaeJ9ixl6wKD",
        "outputId": "4d06d9ec-2976-41fa-baf6-d20427295951"
      },
      "source": [
        "cor_all.shape"
      ],
      "execution_count": null,
      "outputs": [
        {
          "output_type": "execute_result",
          "data": {
            "text/plain": [
              "(884, 5)"
            ]
          },
          "metadata": {},
          "execution_count": 39
        }
      ]
    },
    {
      "cell_type": "code",
      "metadata": {
        "colab": {
          "base_uri": "https://localhost:8080/",
          "height": 419
        },
        "id": "BMx_Ye7fPFH7",
        "outputId": "712ccccb-c118-48fb-baa2-49211914c952"
      },
      "source": [
        "cor_all"
      ],
      "execution_count": null,
      "outputs": [
        {
          "output_type": "execute_result",
          "data": {
            "text/html": [
              "<div>\n",
              "<style scoped>\n",
              "    .dataframe tbody tr th:only-of-type {\n",
              "        vertical-align: middle;\n",
              "    }\n",
              "\n",
              "    .dataframe tbody tr th {\n",
              "        vertical-align: top;\n",
              "    }\n",
              "\n",
              "    .dataframe thead th {\n",
              "        text-align: right;\n",
              "    }\n",
              "</style>\n",
              "<table border=\"1\" class=\"dataframe\">\n",
              "  <thead>\n",
              "    <tr style=\"text-align: right;\">\n",
              "      <th></th>\n",
              "      <th>Rank</th>\n",
              "      <th>Country</th>\n",
              "      <th>Score</th>\n",
              "      <th>Year</th>\n",
              "      <th>Rank</th>\n",
              "    </tr>\n",
              "  </thead>\n",
              "  <tbody>\n",
              "    <tr>\n",
              "      <th>0</th>\n",
              "      <td>1.0</td>\n",
              "      <td>Denmark</td>\n",
              "      <td>91</td>\n",
              "      <td>2015</td>\n",
              "      <td>NaN</td>\n",
              "    </tr>\n",
              "    <tr>\n",
              "      <th>1</th>\n",
              "      <td>1.0</td>\n",
              "      <td>New Zealand</td>\n",
              "      <td>91</td>\n",
              "      <td>2015</td>\n",
              "      <td>NaN</td>\n",
              "    </tr>\n",
              "    <tr>\n",
              "      <th>2</th>\n",
              "      <td>3.0</td>\n",
              "      <td>Finland</td>\n",
              "      <td>90</td>\n",
              "      <td>2015</td>\n",
              "      <td>NaN</td>\n",
              "    </tr>\n",
              "    <tr>\n",
              "      <th>3</th>\n",
              "      <td>4.0</td>\n",
              "      <td>Sweden</td>\n",
              "      <td>89</td>\n",
              "      <td>2015</td>\n",
              "      <td>NaN</td>\n",
              "    </tr>\n",
              "    <tr>\n",
              "      <th>4</th>\n",
              "      <td>5.0</td>\n",
              "      <td>Norway</td>\n",
              "      <td>88</td>\n",
              "      <td>2015</td>\n",
              "      <td>NaN</td>\n",
              "    </tr>\n",
              "    <tr>\n",
              "      <th>...</th>\n",
              "      <td>...</td>\n",
              "      <td>...</td>\n",
              "      <td>...</td>\n",
              "      <td>...</td>\n",
              "      <td>...</td>\n",
              "    </tr>\n",
              "    <tr>\n",
              "      <th>175</th>\n",
              "      <td>NaN</td>\n",
              "      <td>Korea, North</td>\n",
              "      <td>14</td>\n",
              "      <td>2019</td>\n",
              "      <td>176.0</td>\n",
              "    </tr>\n",
              "    <tr>\n",
              "      <th>176</th>\n",
              "      <td>NaN</td>\n",
              "      <td>Yemen</td>\n",
              "      <td>14</td>\n",
              "      <td>2019</td>\n",
              "      <td>176.0</td>\n",
              "    </tr>\n",
              "    <tr>\n",
              "      <th>177</th>\n",
              "      <td>NaN</td>\n",
              "      <td>South Sudan</td>\n",
              "      <td>13</td>\n",
              "      <td>2019</td>\n",
              "      <td>178.0</td>\n",
              "    </tr>\n",
              "    <tr>\n",
              "      <th>178</th>\n",
              "      <td>NaN</td>\n",
              "      <td>Syria</td>\n",
              "      <td>13</td>\n",
              "      <td>2019</td>\n",
              "      <td>178.0</td>\n",
              "    </tr>\n",
              "    <tr>\n",
              "      <th>179</th>\n",
              "      <td>NaN</td>\n",
              "      <td>Somalia</td>\n",
              "      <td>10</td>\n",
              "      <td>2019</td>\n",
              "      <td>180.0</td>\n",
              "    </tr>\n",
              "  </tbody>\n",
              "</table>\n",
              "<p>884 rows × 5 columns</p>\n",
              "</div>"
            ],
            "text/plain": [
              "     Rank       Country  Score  Year  Rank \n",
              "0     1.0       Denmark     91  2015    NaN\n",
              "1     1.0   New Zealand     91  2015    NaN\n",
              "2     3.0       Finland     90  2015    NaN\n",
              "3     4.0        Sweden     89  2015    NaN\n",
              "4     5.0        Norway     88  2015    NaN\n",
              "..    ...           ...    ...   ...    ...\n",
              "175   NaN  Korea, North     14  2019  176.0\n",
              "176   NaN         Yemen     14  2019  176.0\n",
              "177   NaN   South Sudan     13  2019  178.0\n",
              "178   NaN         Syria     13  2019  178.0\n",
              "179   NaN       Somalia     10  2019  180.0\n",
              "\n",
              "[884 rows x 5 columns]"
            ]
          },
          "metadata": {},
          "execution_count": 40
        }
      ]
    },
    {
      "cell_type": "code",
      "metadata": {
        "colab": {
          "base_uri": "https://localhost:8080/"
        },
        "id": "X1_R71UTPLPP",
        "outputId": "7da90a25-e88a-4966-f99d-7a8f02569d3f"
      },
      "source": [
        "cor_all.info()"
      ],
      "execution_count": null,
      "outputs": [
        {
          "output_type": "stream",
          "name": "stdout",
          "text": [
            "<class 'pandas.core.frame.DataFrame'>\n",
            "Int64Index: 884 entries, 0 to 179\n",
            "Data columns (total 5 columns):\n",
            " #   Column   Non-Null Count  Dtype  \n",
            "---  ------   --------------  -----  \n",
            " 0   Rank     524 non-null    float64\n",
            " 1   Country  884 non-null    object \n",
            " 2   Score    884 non-null    int64  \n",
            " 3   Year     884 non-null    object \n",
            " 4   Rank     360 non-null    float64\n",
            "dtypes: float64(2), int64(1), object(2)\n",
            "memory usage: 41.4+ KB\n"
          ]
        }
      ]
    },
    {
      "cell_type": "code",
      "metadata": {
        "colab": {
          "base_uri": "https://localhost:8080/",
          "height": 297
        },
        "id": "DZv-57n0PPaR",
        "outputId": "d8955fd1-4276-4ab1-e32a-b090aef77ccd"
      },
      "source": [
        "cor_all.describe()"
      ],
      "execution_count": null,
      "outputs": [
        {
          "output_type": "execute_result",
          "data": {
            "text/html": [
              "<div>\n",
              "<style scoped>\n",
              "    .dataframe tbody tr th:only-of-type {\n",
              "        vertical-align: middle;\n",
              "    }\n",
              "\n",
              "    .dataframe tbody tr th {\n",
              "        vertical-align: top;\n",
              "    }\n",
              "\n",
              "    .dataframe thead th {\n",
              "        text-align: right;\n",
              "    }\n",
              "</style>\n",
              "<table border=\"1\" class=\"dataframe\">\n",
              "  <thead>\n",
              "    <tr style=\"text-align: right;\">\n",
              "      <th></th>\n",
              "      <th>Rank</th>\n",
              "      <th>Score</th>\n",
              "      <th>Rank</th>\n",
              "    </tr>\n",
              "  </thead>\n",
              "  <tbody>\n",
              "    <tr>\n",
              "      <th>count</th>\n",
              "      <td>524.000000</td>\n",
              "      <td>884.000000</td>\n",
              "      <td>360.000000</td>\n",
              "    </tr>\n",
              "    <tr>\n",
              "      <th>mean</th>\n",
              "      <td>86.562977</td>\n",
              "      <td>42.975113</td>\n",
              "      <td>89.127778</td>\n",
              "    </tr>\n",
              "    <tr>\n",
              "      <th>std</th>\n",
              "      <td>50.218241</td>\n",
              "      <td>19.343923</td>\n",
              "      <td>51.676197</td>\n",
              "    </tr>\n",
              "    <tr>\n",
              "      <th>min</th>\n",
              "      <td>1.000000</td>\n",
              "      <td>8.000000</td>\n",
              "      <td>1.000000</td>\n",
              "    </tr>\n",
              "    <tr>\n",
              "      <th>25%</th>\n",
              "      <td>43.000000</td>\n",
              "      <td>29.000000</td>\n",
              "      <td>45.000000</td>\n",
              "    </tr>\n",
              "    <tr>\n",
              "      <th>50%</th>\n",
              "      <td>85.000000</td>\n",
              "      <td>38.000000</td>\n",
              "      <td>89.000000</td>\n",
              "    </tr>\n",
              "    <tr>\n",
              "      <th>75%</th>\n",
              "      <td>130.000000</td>\n",
              "      <td>56.250000</td>\n",
              "      <td>132.000000</td>\n",
              "    </tr>\n",
              "    <tr>\n",
              "      <th>max</th>\n",
              "      <td>180.000000</td>\n",
              "      <td>91.000000</td>\n",
              "      <td>180.000000</td>\n",
              "    </tr>\n",
              "  </tbody>\n",
              "</table>\n",
              "</div>"
            ],
            "text/plain": [
              "             Rank       Score       Rank \n",
              "count  524.000000  884.000000  360.000000\n",
              "mean    86.562977   42.975113   89.127778\n",
              "std     50.218241   19.343923   51.676197\n",
              "min      1.000000    8.000000    1.000000\n",
              "25%     43.000000   29.000000   45.000000\n",
              "50%     85.000000   38.000000   89.000000\n",
              "75%    130.000000   56.250000  132.000000\n",
              "max    180.000000   91.000000  180.000000"
            ]
          },
          "metadata": {},
          "execution_count": 42
        }
      ]
    },
    {
      "cell_type": "code",
      "metadata": {
        "colab": {
          "base_uri": "https://localhost:8080/"
        },
        "id": "zrhg3S1_PWUB",
        "outputId": "2d3ad1f8-baef-4554-c201-de0ead3bd065"
      },
      "source": [
        "cor_all.info()"
      ],
      "execution_count": null,
      "outputs": [
        {
          "output_type": "stream",
          "name": "stdout",
          "text": [
            "<class 'pandas.core.frame.DataFrame'>\n",
            "Int64Index: 884 entries, 0 to 179\n",
            "Data columns (total 5 columns):\n",
            " #   Column   Non-Null Count  Dtype  \n",
            "---  ------   --------------  -----  \n",
            " 0   Rank     524 non-null    float64\n",
            " 1   Country  884 non-null    object \n",
            " 2   Score    884 non-null    int64  \n",
            " 3   Year     884 non-null    object \n",
            " 4   Rank     360 non-null    float64\n",
            "dtypes: float64(2), int64(1), object(2)\n",
            "memory usage: 41.4+ KB\n"
          ]
        }
      ]
    },
    {
      "cell_type": "code",
      "metadata": {
        "colab": {
          "base_uri": "https://localhost:8080/",
          "height": 204
        },
        "id": "r5t9L0wIPg6j",
        "outputId": "2184e6f7-fd77-44c6-b02f-3d31933f991b"
      },
      "source": [
        "cor_all.head()"
      ],
      "execution_count": null,
      "outputs": [
        {
          "output_type": "execute_result",
          "data": {
            "text/html": [
              "<div>\n",
              "<style scoped>\n",
              "    .dataframe tbody tr th:only-of-type {\n",
              "        vertical-align: middle;\n",
              "    }\n",
              "\n",
              "    .dataframe tbody tr th {\n",
              "        vertical-align: top;\n",
              "    }\n",
              "\n",
              "    .dataframe thead th {\n",
              "        text-align: right;\n",
              "    }\n",
              "</style>\n",
              "<table border=\"1\" class=\"dataframe\">\n",
              "  <thead>\n",
              "    <tr style=\"text-align: right;\">\n",
              "      <th></th>\n",
              "      <th>Rank</th>\n",
              "      <th>Country</th>\n",
              "      <th>Score</th>\n",
              "      <th>Year</th>\n",
              "      <th>Rank</th>\n",
              "    </tr>\n",
              "  </thead>\n",
              "  <tbody>\n",
              "    <tr>\n",
              "      <th>0</th>\n",
              "      <td>1.0</td>\n",
              "      <td>Denmark</td>\n",
              "      <td>91</td>\n",
              "      <td>2015</td>\n",
              "      <td>NaN</td>\n",
              "    </tr>\n",
              "    <tr>\n",
              "      <th>1</th>\n",
              "      <td>1.0</td>\n",
              "      <td>New Zealand</td>\n",
              "      <td>91</td>\n",
              "      <td>2015</td>\n",
              "      <td>NaN</td>\n",
              "    </tr>\n",
              "    <tr>\n",
              "      <th>2</th>\n",
              "      <td>3.0</td>\n",
              "      <td>Finland</td>\n",
              "      <td>90</td>\n",
              "      <td>2015</td>\n",
              "      <td>NaN</td>\n",
              "    </tr>\n",
              "    <tr>\n",
              "      <th>3</th>\n",
              "      <td>4.0</td>\n",
              "      <td>Sweden</td>\n",
              "      <td>89</td>\n",
              "      <td>2015</td>\n",
              "      <td>NaN</td>\n",
              "    </tr>\n",
              "    <tr>\n",
              "      <th>4</th>\n",
              "      <td>5.0</td>\n",
              "      <td>Norway</td>\n",
              "      <td>88</td>\n",
              "      <td>2015</td>\n",
              "      <td>NaN</td>\n",
              "    </tr>\n",
              "  </tbody>\n",
              "</table>\n",
              "</div>"
            ],
            "text/plain": [
              "   Rank      Country  Score  Year  Rank \n",
              "0   1.0      Denmark     91  2015    NaN\n",
              "1   1.0  New Zealand     91  2015    NaN\n",
              "2   3.0      Finland     90  2015    NaN\n",
              "3   4.0       Sweden     89  2015    NaN\n",
              "4   5.0       Norway     88  2015    NaN"
            ]
          },
          "metadata": {},
          "execution_count": 44
        }
      ]
    },
    {
      "cell_type": "code",
      "metadata": {
        "id": "JH78U2tYTQA6"
      },
      "source": [
        "cor_all.reset_index(drop=True, inplace=True)"
      ],
      "execution_count": null,
      "outputs": []
    },
    {
      "cell_type": "markdown",
      "metadata": {
        "id": "E8lbL5gOT7pw"
      },
      "source": [
        "I was thinkin it will drop index 0, 1 , 2 ...?! but it isnt"
      ]
    },
    {
      "cell_type": "code",
      "metadata": {
        "colab": {
          "base_uri": "https://localhost:8080/",
          "height": 204
        },
        "id": "nwRrzPQqTnBO",
        "outputId": "0ffc7417-8345-44db-c274-46ac690e035e"
      },
      "source": [
        "cor_all.head()"
      ],
      "execution_count": null,
      "outputs": [
        {
          "output_type": "execute_result",
          "data": {
            "text/html": [
              "<div>\n",
              "<style scoped>\n",
              "    .dataframe tbody tr th:only-of-type {\n",
              "        vertical-align: middle;\n",
              "    }\n",
              "\n",
              "    .dataframe tbody tr th {\n",
              "        vertical-align: top;\n",
              "    }\n",
              "\n",
              "    .dataframe thead th {\n",
              "        text-align: right;\n",
              "    }\n",
              "</style>\n",
              "<table border=\"1\" class=\"dataframe\">\n",
              "  <thead>\n",
              "    <tr style=\"text-align: right;\">\n",
              "      <th></th>\n",
              "      <th>Rank</th>\n",
              "      <th>Country</th>\n",
              "      <th>Score</th>\n",
              "      <th>Year</th>\n",
              "      <th>Rank</th>\n",
              "    </tr>\n",
              "  </thead>\n",
              "  <tbody>\n",
              "    <tr>\n",
              "      <th>0</th>\n",
              "      <td>1.0</td>\n",
              "      <td>Denmark</td>\n",
              "      <td>91</td>\n",
              "      <td>2015</td>\n",
              "      <td>NaN</td>\n",
              "    </tr>\n",
              "    <tr>\n",
              "      <th>1</th>\n",
              "      <td>1.0</td>\n",
              "      <td>New Zealand</td>\n",
              "      <td>91</td>\n",
              "      <td>2015</td>\n",
              "      <td>NaN</td>\n",
              "    </tr>\n",
              "    <tr>\n",
              "      <th>2</th>\n",
              "      <td>3.0</td>\n",
              "      <td>Finland</td>\n",
              "      <td>90</td>\n",
              "      <td>2015</td>\n",
              "      <td>NaN</td>\n",
              "    </tr>\n",
              "    <tr>\n",
              "      <th>3</th>\n",
              "      <td>4.0</td>\n",
              "      <td>Sweden</td>\n",
              "      <td>89</td>\n",
              "      <td>2015</td>\n",
              "      <td>NaN</td>\n",
              "    </tr>\n",
              "    <tr>\n",
              "      <th>4</th>\n",
              "      <td>5.0</td>\n",
              "      <td>Norway</td>\n",
              "      <td>88</td>\n",
              "      <td>2015</td>\n",
              "      <td>NaN</td>\n",
              "    </tr>\n",
              "  </tbody>\n",
              "</table>\n",
              "</div>"
            ],
            "text/plain": [
              "   Rank      Country  Score  Year  Rank \n",
              "0   1.0      Denmark     91  2015    NaN\n",
              "1   1.0  New Zealand     91  2015    NaN\n",
              "2   3.0      Finland     90  2015    NaN\n",
              "3   4.0       Sweden     89  2015    NaN\n",
              "4   5.0       Norway     88  2015    NaN"
            ]
          },
          "metadata": {},
          "execution_count": 46
        }
      ]
    },
    {
      "cell_type": "code",
      "metadata": {
        "colab": {
          "base_uri": "https://localhost:8080/",
          "height": 419
        },
        "id": "XuglC2RrT1so",
        "outputId": "1ec30802-d2b9-4278-ada1-dc147d09a4eb"
      },
      "source": [
        "cor_all"
      ],
      "execution_count": null,
      "outputs": [
        {
          "output_type": "execute_result",
          "data": {
            "text/html": [
              "<div>\n",
              "<style scoped>\n",
              "    .dataframe tbody tr th:only-of-type {\n",
              "        vertical-align: middle;\n",
              "    }\n",
              "\n",
              "    .dataframe tbody tr th {\n",
              "        vertical-align: top;\n",
              "    }\n",
              "\n",
              "    .dataframe thead th {\n",
              "        text-align: right;\n",
              "    }\n",
              "</style>\n",
              "<table border=\"1\" class=\"dataframe\">\n",
              "  <thead>\n",
              "    <tr style=\"text-align: right;\">\n",
              "      <th></th>\n",
              "      <th>Rank</th>\n",
              "      <th>Country</th>\n",
              "      <th>Score</th>\n",
              "      <th>Year</th>\n",
              "      <th>Rank</th>\n",
              "    </tr>\n",
              "  </thead>\n",
              "  <tbody>\n",
              "    <tr>\n",
              "      <th>0</th>\n",
              "      <td>1.0</td>\n",
              "      <td>Denmark</td>\n",
              "      <td>91</td>\n",
              "      <td>2015</td>\n",
              "      <td>NaN</td>\n",
              "    </tr>\n",
              "    <tr>\n",
              "      <th>1</th>\n",
              "      <td>1.0</td>\n",
              "      <td>New Zealand</td>\n",
              "      <td>91</td>\n",
              "      <td>2015</td>\n",
              "      <td>NaN</td>\n",
              "    </tr>\n",
              "    <tr>\n",
              "      <th>2</th>\n",
              "      <td>3.0</td>\n",
              "      <td>Finland</td>\n",
              "      <td>90</td>\n",
              "      <td>2015</td>\n",
              "      <td>NaN</td>\n",
              "    </tr>\n",
              "    <tr>\n",
              "      <th>3</th>\n",
              "      <td>4.0</td>\n",
              "      <td>Sweden</td>\n",
              "      <td>89</td>\n",
              "      <td>2015</td>\n",
              "      <td>NaN</td>\n",
              "    </tr>\n",
              "    <tr>\n",
              "      <th>4</th>\n",
              "      <td>5.0</td>\n",
              "      <td>Norway</td>\n",
              "      <td>88</td>\n",
              "      <td>2015</td>\n",
              "      <td>NaN</td>\n",
              "    </tr>\n",
              "    <tr>\n",
              "      <th>...</th>\n",
              "      <td>...</td>\n",
              "      <td>...</td>\n",
              "      <td>...</td>\n",
              "      <td>...</td>\n",
              "      <td>...</td>\n",
              "    </tr>\n",
              "    <tr>\n",
              "      <th>879</th>\n",
              "      <td>NaN</td>\n",
              "      <td>Korea, North</td>\n",
              "      <td>14</td>\n",
              "      <td>2019</td>\n",
              "      <td>176.0</td>\n",
              "    </tr>\n",
              "    <tr>\n",
              "      <th>880</th>\n",
              "      <td>NaN</td>\n",
              "      <td>Yemen</td>\n",
              "      <td>14</td>\n",
              "      <td>2019</td>\n",
              "      <td>176.0</td>\n",
              "    </tr>\n",
              "    <tr>\n",
              "      <th>881</th>\n",
              "      <td>NaN</td>\n",
              "      <td>South Sudan</td>\n",
              "      <td>13</td>\n",
              "      <td>2019</td>\n",
              "      <td>178.0</td>\n",
              "    </tr>\n",
              "    <tr>\n",
              "      <th>882</th>\n",
              "      <td>NaN</td>\n",
              "      <td>Syria</td>\n",
              "      <td>13</td>\n",
              "      <td>2019</td>\n",
              "      <td>178.0</td>\n",
              "    </tr>\n",
              "    <tr>\n",
              "      <th>883</th>\n",
              "      <td>NaN</td>\n",
              "      <td>Somalia</td>\n",
              "      <td>10</td>\n",
              "      <td>2019</td>\n",
              "      <td>180.0</td>\n",
              "    </tr>\n",
              "  </tbody>\n",
              "</table>\n",
              "<p>884 rows × 5 columns</p>\n",
              "</div>"
            ],
            "text/plain": [
              "     Rank       Country  Score  Year  Rank \n",
              "0     1.0       Denmark     91  2015    NaN\n",
              "1     1.0   New Zealand     91  2015    NaN\n",
              "2     3.0       Finland     90  2015    NaN\n",
              "3     4.0        Sweden     89  2015    NaN\n",
              "4     5.0        Norway     88  2015    NaN\n",
              "..    ...           ...    ...   ...    ...\n",
              "879   NaN  Korea, North     14  2019  176.0\n",
              "880   NaN         Yemen     14  2019  176.0\n",
              "881   NaN   South Sudan     13  2019  178.0\n",
              "882   NaN         Syria     13  2019  178.0\n",
              "883   NaN       Somalia     10  2019  180.0\n",
              "\n",
              "[884 rows x 5 columns]"
            ]
          },
          "metadata": {},
          "execution_count": 47
        }
      ]
    },
    {
      "cell_type": "code",
      "metadata": {
        "colab": {
          "base_uri": "https://localhost:8080/",
          "height": 419
        },
        "id": "haydtnTMRWbK",
        "outputId": "43fef5df-8163-4b0a-c75d-6eafb61dc747"
      },
      "source": [
        "cor_all.drop(cor_all.index[0])"
      ],
      "execution_count": null,
      "outputs": [
        {
          "output_type": "execute_result",
          "data": {
            "text/html": [
              "<div>\n",
              "<style scoped>\n",
              "    .dataframe tbody tr th:only-of-type {\n",
              "        vertical-align: middle;\n",
              "    }\n",
              "\n",
              "    .dataframe tbody tr th {\n",
              "        vertical-align: top;\n",
              "    }\n",
              "\n",
              "    .dataframe thead th {\n",
              "        text-align: right;\n",
              "    }\n",
              "</style>\n",
              "<table border=\"1\" class=\"dataframe\">\n",
              "  <thead>\n",
              "    <tr style=\"text-align: right;\">\n",
              "      <th></th>\n",
              "      <th>Rank</th>\n",
              "      <th>Country</th>\n",
              "      <th>Score</th>\n",
              "      <th>Year</th>\n",
              "      <th>Rank</th>\n",
              "    </tr>\n",
              "  </thead>\n",
              "  <tbody>\n",
              "    <tr>\n",
              "      <th>1</th>\n",
              "      <td>1.0</td>\n",
              "      <td>New Zealand</td>\n",
              "      <td>91</td>\n",
              "      <td>2015</td>\n",
              "      <td>NaN</td>\n",
              "    </tr>\n",
              "    <tr>\n",
              "      <th>2</th>\n",
              "      <td>3.0</td>\n",
              "      <td>Finland</td>\n",
              "      <td>90</td>\n",
              "      <td>2015</td>\n",
              "      <td>NaN</td>\n",
              "    </tr>\n",
              "    <tr>\n",
              "      <th>3</th>\n",
              "      <td>4.0</td>\n",
              "      <td>Sweden</td>\n",
              "      <td>89</td>\n",
              "      <td>2015</td>\n",
              "      <td>NaN</td>\n",
              "    </tr>\n",
              "    <tr>\n",
              "      <th>4</th>\n",
              "      <td>5.0</td>\n",
              "      <td>Norway</td>\n",
              "      <td>88</td>\n",
              "      <td>2015</td>\n",
              "      <td>NaN</td>\n",
              "    </tr>\n",
              "    <tr>\n",
              "      <th>5</th>\n",
              "      <td>6.0</td>\n",
              "      <td>Switzerland</td>\n",
              "      <td>86</td>\n",
              "      <td>2015</td>\n",
              "      <td>NaN</td>\n",
              "    </tr>\n",
              "    <tr>\n",
              "      <th>...</th>\n",
              "      <td>...</td>\n",
              "      <td>...</td>\n",
              "      <td>...</td>\n",
              "      <td>...</td>\n",
              "      <td>...</td>\n",
              "    </tr>\n",
              "    <tr>\n",
              "      <th>879</th>\n",
              "      <td>NaN</td>\n",
              "      <td>Korea, North</td>\n",
              "      <td>14</td>\n",
              "      <td>2019</td>\n",
              "      <td>176.0</td>\n",
              "    </tr>\n",
              "    <tr>\n",
              "      <th>880</th>\n",
              "      <td>NaN</td>\n",
              "      <td>Yemen</td>\n",
              "      <td>14</td>\n",
              "      <td>2019</td>\n",
              "      <td>176.0</td>\n",
              "    </tr>\n",
              "    <tr>\n",
              "      <th>881</th>\n",
              "      <td>NaN</td>\n",
              "      <td>South Sudan</td>\n",
              "      <td>13</td>\n",
              "      <td>2019</td>\n",
              "      <td>178.0</td>\n",
              "    </tr>\n",
              "    <tr>\n",
              "      <th>882</th>\n",
              "      <td>NaN</td>\n",
              "      <td>Syria</td>\n",
              "      <td>13</td>\n",
              "      <td>2019</td>\n",
              "      <td>178.0</td>\n",
              "    </tr>\n",
              "    <tr>\n",
              "      <th>883</th>\n",
              "      <td>NaN</td>\n",
              "      <td>Somalia</td>\n",
              "      <td>10</td>\n",
              "      <td>2019</td>\n",
              "      <td>180.0</td>\n",
              "    </tr>\n",
              "  </tbody>\n",
              "</table>\n",
              "<p>883 rows × 5 columns</p>\n",
              "</div>"
            ],
            "text/plain": [
              "     Rank       Country  Score  Year  Rank \n",
              "1     1.0   New Zealand     91  2015    NaN\n",
              "2     3.0       Finland     90  2015    NaN\n",
              "3     4.0        Sweden     89  2015    NaN\n",
              "4     5.0        Norway     88  2015    NaN\n",
              "5     6.0   Switzerland     86  2015    NaN\n",
              "..    ...           ...    ...   ...    ...\n",
              "879   NaN  Korea, North     14  2019  176.0\n",
              "880   NaN         Yemen     14  2019  176.0\n",
              "881   NaN   South Sudan     13  2019  178.0\n",
              "882   NaN         Syria     13  2019  178.0\n",
              "883   NaN       Somalia     10  2019  180.0\n",
              "\n",
              "[883 rows x 5 columns]"
            ]
          },
          "metadata": {},
          "execution_count": 48
        }
      ]
    },
    {
      "cell_type": "code",
      "metadata": {
        "id": "WCGKDLxYUN9X"
      },
      "source": [
        "cor_all.drop(cor_all.columns[4], axis=1, inplace=True)"
      ],
      "execution_count": null,
      "outputs": []
    },
    {
      "cell_type": "code",
      "metadata": {
        "colab": {
          "base_uri": "https://localhost:8080/",
          "height": 204
        },
        "id": "IzLRr1ouVKGw",
        "outputId": "30d6eea9-c0a0-4840-9946-ba4515c0b5ad"
      },
      "source": [
        "cor_all.head()"
      ],
      "execution_count": null,
      "outputs": [
        {
          "output_type": "execute_result",
          "data": {
            "text/html": [
              "<div>\n",
              "<style scoped>\n",
              "    .dataframe tbody tr th:only-of-type {\n",
              "        vertical-align: middle;\n",
              "    }\n",
              "\n",
              "    .dataframe tbody tr th {\n",
              "        vertical-align: top;\n",
              "    }\n",
              "\n",
              "    .dataframe thead th {\n",
              "        text-align: right;\n",
              "    }\n",
              "</style>\n",
              "<table border=\"1\" class=\"dataframe\">\n",
              "  <thead>\n",
              "    <tr style=\"text-align: right;\">\n",
              "      <th></th>\n",
              "      <th>Rank</th>\n",
              "      <th>Country</th>\n",
              "      <th>Score</th>\n",
              "      <th>Year</th>\n",
              "    </tr>\n",
              "  </thead>\n",
              "  <tbody>\n",
              "    <tr>\n",
              "      <th>0</th>\n",
              "      <td>1.0</td>\n",
              "      <td>Denmark</td>\n",
              "      <td>91</td>\n",
              "      <td>2015</td>\n",
              "    </tr>\n",
              "    <tr>\n",
              "      <th>1</th>\n",
              "      <td>1.0</td>\n",
              "      <td>New Zealand</td>\n",
              "      <td>91</td>\n",
              "      <td>2015</td>\n",
              "    </tr>\n",
              "    <tr>\n",
              "      <th>2</th>\n",
              "      <td>3.0</td>\n",
              "      <td>Finland</td>\n",
              "      <td>90</td>\n",
              "      <td>2015</td>\n",
              "    </tr>\n",
              "    <tr>\n",
              "      <th>3</th>\n",
              "      <td>4.0</td>\n",
              "      <td>Sweden</td>\n",
              "      <td>89</td>\n",
              "      <td>2015</td>\n",
              "    </tr>\n",
              "    <tr>\n",
              "      <th>4</th>\n",
              "      <td>5.0</td>\n",
              "      <td>Norway</td>\n",
              "      <td>88</td>\n",
              "      <td>2015</td>\n",
              "    </tr>\n",
              "  </tbody>\n",
              "</table>\n",
              "</div>"
            ],
            "text/plain": [
              "   Rank      Country  Score  Year\n",
              "0   1.0      Denmark     91  2015\n",
              "1   1.0  New Zealand     91  2015\n",
              "2   3.0      Finland     90  2015\n",
              "3   4.0       Sweden     89  2015\n",
              "4   5.0       Norway     88  2015"
            ]
          },
          "metadata": {},
          "execution_count": 50
        }
      ]
    },
    {
      "cell_type": "code",
      "metadata": {
        "colab": {
          "base_uri": "https://localhost:8080/"
        },
        "id": "TO3m24g-VOyP",
        "outputId": "90dc391e-9ace-4979-85e5-c25386e75d90"
      },
      "source": [
        "cor_all.info()"
      ],
      "execution_count": null,
      "outputs": [
        {
          "output_type": "stream",
          "name": "stdout",
          "text": [
            "<class 'pandas.core.frame.DataFrame'>\n",
            "RangeIndex: 884 entries, 0 to 883\n",
            "Data columns (total 4 columns):\n",
            " #   Column   Non-Null Count  Dtype  \n",
            "---  ------   --------------  -----  \n",
            " 0   Rank     524 non-null    float64\n",
            " 1   Country  884 non-null    object \n",
            " 2   Score    884 non-null    int64  \n",
            " 3   Year     884 non-null    object \n",
            "dtypes: float64(1), int64(1), object(2)\n",
            "memory usage: 27.8+ KB\n"
          ]
        }
      ]
    },
    {
      "cell_type": "code",
      "metadata": {
        "id": "8pXvwFqqVaB0"
      },
      "source": [
        "cor_all['Rank'] = cor_all['Rank'].astype('Int64')"
      ],
      "execution_count": null,
      "outputs": []
    },
    {
      "cell_type": "code",
      "metadata": {
        "colab": {
          "base_uri": "https://localhost:8080/"
        },
        "id": "WCYAjKBmwdc0",
        "outputId": "9df87be1-e285-4213-93ea-052257095152"
      },
      "source": [
        "cor_all.info()"
      ],
      "execution_count": null,
      "outputs": [
        {
          "output_type": "stream",
          "name": "stdout",
          "text": [
            "<class 'pandas.core.frame.DataFrame'>\n",
            "RangeIndex: 884 entries, 0 to 883\n",
            "Data columns (total 4 columns):\n",
            " #   Column   Non-Null Count  Dtype \n",
            "---  ------   --------------  ----- \n",
            " 0   Rank     524 non-null    Int64 \n",
            " 1   Country  884 non-null    object\n",
            " 2   Score    884 non-null    int64 \n",
            " 3   Year     884 non-null    object\n",
            "dtypes: Int64(1), int64(1), object(2)\n",
            "memory usage: 28.6+ KB\n"
          ]
        }
      ]
    },
    {
      "cell_type": "code",
      "metadata": {
        "colab": {
          "base_uri": "https://localhost:8080/",
          "height": 204
        },
        "id": "2LZLuqvxwlmk",
        "outputId": "bf0d346a-3488-4e58-f403-323c5af880ea"
      },
      "source": [
        "cor_all.head()"
      ],
      "execution_count": null,
      "outputs": [
        {
          "output_type": "execute_result",
          "data": {
            "text/html": [
              "<div>\n",
              "<style scoped>\n",
              "    .dataframe tbody tr th:only-of-type {\n",
              "        vertical-align: middle;\n",
              "    }\n",
              "\n",
              "    .dataframe tbody tr th {\n",
              "        vertical-align: top;\n",
              "    }\n",
              "\n",
              "    .dataframe thead th {\n",
              "        text-align: right;\n",
              "    }\n",
              "</style>\n",
              "<table border=\"1\" class=\"dataframe\">\n",
              "  <thead>\n",
              "    <tr style=\"text-align: right;\">\n",
              "      <th></th>\n",
              "      <th>Rank</th>\n",
              "      <th>Country</th>\n",
              "      <th>Score</th>\n",
              "      <th>Year</th>\n",
              "    </tr>\n",
              "  </thead>\n",
              "  <tbody>\n",
              "    <tr>\n",
              "      <th>0</th>\n",
              "      <td>1</td>\n",
              "      <td>Denmark</td>\n",
              "      <td>91</td>\n",
              "      <td>2015</td>\n",
              "    </tr>\n",
              "    <tr>\n",
              "      <th>1</th>\n",
              "      <td>1</td>\n",
              "      <td>New Zealand</td>\n",
              "      <td>91</td>\n",
              "      <td>2015</td>\n",
              "    </tr>\n",
              "    <tr>\n",
              "      <th>2</th>\n",
              "      <td>3</td>\n",
              "      <td>Finland</td>\n",
              "      <td>90</td>\n",
              "      <td>2015</td>\n",
              "    </tr>\n",
              "    <tr>\n",
              "      <th>3</th>\n",
              "      <td>4</td>\n",
              "      <td>Sweden</td>\n",
              "      <td>89</td>\n",
              "      <td>2015</td>\n",
              "    </tr>\n",
              "    <tr>\n",
              "      <th>4</th>\n",
              "      <td>5</td>\n",
              "      <td>Norway</td>\n",
              "      <td>88</td>\n",
              "      <td>2015</td>\n",
              "    </tr>\n",
              "  </tbody>\n",
              "</table>\n",
              "</div>"
            ],
            "text/plain": [
              "   Rank      Country  Score  Year\n",
              "0     1      Denmark     91  2015\n",
              "1     1  New Zealand     91  2015\n",
              "2     3      Finland     90  2015\n",
              "3     4       Sweden     89  2015\n",
              "4     5       Norway     88  2015"
            ]
          },
          "metadata": {},
          "execution_count": 54
        }
      ]
    },
    {
      "cell_type": "markdown",
      "metadata": {
        "id": "CAbsoEoJxGFu"
      },
      "source": [
        "Najmanje korumpirane zemlje imaju najveci Score\n",
        "\n",
        "Uvodim gdp iz seta hww, da bih uporedila uticaj korumpiranosti i gdp (indikatora razvoja zemlje)"
      ]
    },
    {
      "cell_type": "code",
      "metadata": {
        "colab": {
          "base_uri": "https://localhost:8080/"
        },
        "id": "0jyEISmEvQp4",
        "outputId": "9932a3f9-9754-4519-8513-80098b73f25c"
      },
      "source": [
        "cor_all.isnull().values.any()"
      ],
      "execution_count": null,
      "outputs": [
        {
          "output_type": "execute_result",
          "data": {
            "text/plain": [
              "True"
            ]
          },
          "metadata": {},
          "execution_count": 55
        }
      ]
    },
    {
      "cell_type": "code",
      "metadata": {
        "colab": {
          "base_uri": "https://localhost:8080/"
        },
        "id": "P2Ey0z5h0eBy",
        "outputId": "cf302442-474e-420a-8606-b00d94819d48"
      },
      "source": [
        "cor_all.isna().sum()"
      ],
      "execution_count": null,
      "outputs": [
        {
          "output_type": "execute_result",
          "data": {
            "text/plain": [
              "Rank       360\n",
              "Country      0\n",
              "Score        0\n",
              "Year         0\n",
              "dtype: int64"
            ]
          },
          "metadata": {},
          "execution_count": 56
        }
      ]
    },
    {
      "cell_type": "code",
      "metadata": {
        "colab": {
          "base_uri": "https://localhost:8080/"
        },
        "id": "Bj2OgVim0j1w",
        "outputId": "b384fb2b-147b-4714-e4a7-e757ff107280"
      },
      "source": [
        "cor_all['Score'] == True"
      ],
      "execution_count": null,
      "outputs": [
        {
          "output_type": "execute_result",
          "data": {
            "text/plain": [
              "0      False\n",
              "1      False\n",
              "2      False\n",
              "3      False\n",
              "4      False\n",
              "       ...  \n",
              "879    False\n",
              "880    False\n",
              "881    False\n",
              "882    False\n",
              "883    False\n",
              "Name: Score, Length: 884, dtype: bool"
            ]
          },
          "metadata": {},
          "execution_count": 57
        }
      ]
    },
    {
      "cell_type": "code",
      "metadata": {
        "id": "XFWVUYBd04bi"
      },
      "source": [
        "cor_all['Score'] = cor_all['Score'].fillna(cor_all['Score'].median())"
      ],
      "execution_count": null,
      "outputs": []
    },
    {
      "cell_type": "code",
      "metadata": {
        "colab": {
          "base_uri": "https://localhost:8080/"
        },
        "id": "jO0ibNSv1YOy",
        "outputId": "ce232974-64e2-48fe-baed-09ffaeb0b6fb"
      },
      "source": [
        "cor_all.isnull().values.any()"
      ],
      "execution_count": null,
      "outputs": [
        {
          "output_type": "execute_result",
          "data": {
            "text/plain": [
              "True"
            ]
          },
          "metadata": {},
          "execution_count": 59
        }
      ]
    },
    {
      "cell_type": "code",
      "metadata": {
        "colab": {
          "base_uri": "https://localhost:8080/",
          "height": 332
        },
        "id": "m9BZ0QyW1hEW",
        "outputId": "0831950a-26df-41f8-9f7b-4243eb4fed2d"
      },
      "source": [
        "cor_all.hist()"
      ],
      "execution_count": null,
      "outputs": [
        {
          "output_type": "execute_result",
          "data": {
            "text/plain": [
              "array([[<matplotlib.axes._subplots.AxesSubplot object at 0x7fd6dbb8c810>,\n",
              "        <matplotlib.axes._subplots.AxesSubplot object at 0x7fd6dbb57ed0>]],\n",
              "      dtype=object)"
            ]
          },
          "metadata": {},
          "execution_count": 60
        },
        {
          "output_type": "display_data",
          "data": {
            "image/png": "[encoded data removed]",
            "text/plain": [
              "<Figure size 432x288 with 2 Axes>"
            ]
          },
          "metadata": {
            "needs_background": "light"
          }
        }
      ]
    },
    {
      "cell_type": "code",
      "metadata": {
        "colab": {
          "base_uri": "https://localhost:8080/",
          "height": 391
        },
        "id": "i4U_2VFW2dV3",
        "outputId": "91eb320f-554d-40ee-86b6-97102e47b8f6"
      },
      "source": [
        "sns.pairplot(cor_all)"
      ],
      "execution_count": null,
      "outputs": [
        {
          "output_type": "execute_result",
          "data": {
            "text/plain": [
              "<seaborn.axisgrid.PairGrid at 0x7fd6dba62110>"
            ]
          },
          "metadata": {},
          "execution_count": 61
        },
        {
          "output_type": "display_data",
          "data": {
            "image/png": "[encoded data removed]",
            "text/plain": [
              "<Figure size 360x360 with 6 Axes>"
            ]
          },
          "metadata": {
            "needs_background": "light"
          }
        }
      ]
    },
    {
      "cell_type": "code",
      "metadata": {
        "colab": {
          "base_uri": "https://localhost:8080/",
          "height": 386
        },
        "id": "CDckxta93ic_",
        "outputId": "b6847e76-9fa8-4489-907b-9d5d97d6647b"
      },
      "source": [
        "sns.displot(cor_all['Score'], kde=True)"
      ],
      "execution_count": null,
      "outputs": [
        {
          "output_type": "execute_result",
          "data": {
            "text/plain": [
              "<seaborn.axisgrid.FacetGrid at 0x7fd6d2cace90>"
            ]
          },
          "metadata": {},
          "execution_count": 62
        },
        {
          "output_type": "display_data",
          "data": {
            "image/png": "[encoded data removed]",
            "text/plain": [
              "<Figure size 360x360 with 1 Axes>"
            ]
          },
          "metadata": {
            "needs_background": "light"
          }
        }
      ]
    },
    {
      "cell_type": "code",
      "metadata": {
        "colab": {
          "base_uri": "https://localhost:8080/",
          "height": 332
        },
        "id": "IR6-FhBB38FX",
        "outputId": "0bb996f0-6024-4c20-9df1-4897852846aa"
      },
      "source": [
        "cor_all.hist()"
      ],
      "execution_count": null,
      "outputs": [
        {
          "output_type": "execute_result",
          "data": {
            "text/plain": [
              "array([[<matplotlib.axes._subplots.AxesSubplot object at 0x7fd6d0ab96d0>,\n",
              "        <matplotlib.axes._subplots.AxesSubplot object at 0x7fd6d0aea310>]],\n",
              "      dtype=object)"
            ]
          },
          "metadata": {},
          "execution_count": 63
        },
        {
          "output_type": "display_data",
          "data": {
            "image/png": "[encoded data removed]",
            "text/plain": [
              "<Figure size 432x288 with 2 Axes>"
            ]
          },
          "metadata": {
            "needs_background": "light"
          }
        }
      ]
    },
    {
      "cell_type": "code",
      "metadata": {
        "colab": {
          "base_uri": "https://localhost:8080/",
          "height": 386
        },
        "id": "1nkFumND4IyM",
        "outputId": "eff65da8-6cd3-47e0-9efb-0f11209d31b4"
      },
      "source": [
        "sns.displot(cor15['Score'])"
      ],
      "execution_count": null,
      "outputs": [
        {
          "output_type": "execute_result",
          "data": {
            "text/plain": [
              "<seaborn.axisgrid.FacetGrid at 0x7fd6d2b4ec90>"
            ]
          },
          "metadata": {},
          "execution_count": 64
        },
        {
          "output_type": "display_data",
          "data": {
            "image/png": "[encoded data removed]",
            "text/plain": [
              "<Figure size 360x360 with 1 Axes>"
            ]
          },
          "metadata": {
            "needs_background": "light"
          }
        }
      ]
    },
    {
      "cell_type": "code",
      "metadata": {
        "colab": {
          "base_uri": "https://localhost:8080/",
          "height": 550
        },
        "id": "WyoOJWns4VJr",
        "outputId": "0490b739-927b-4208-e140-fdcd05c5d77b"
      },
      "source": [
        "sns.set(rc={'figure.figsize':(11.7,8.27)})\n",
        "plt.title(\"Corruption Distribution\")\n",
        "plt.ylabel(\"Percentage of Countries\")\n",
        "plt.xlabel(\"Score\")\n",
        "\n",
        "\n",
        "sns.kdeplot(data = cor15['Score'], shade = True, color = 'red', label = '2015')\n",
        "sns.kdeplot(data = cor16['Score'], shade = True, color = 'orange', label = '2016')\n",
        "sns.kdeplot(data = cor17['Score'], shade = True, color = 'green', label = '2017')\n",
        "sns.kdeplot(data = cor18['Score'], shade = True, color = 'blue', label = '2018')\n",
        "sns.kdeplot(data = cor19['Score'], shade = True, color = 'black', label = '2019')\n",
        "plt.legend()"
      ],
      "execution_count": null,
      "outputs": [
        {
          "output_type": "execute_result",
          "data": {
            "text/plain": [
              "<matplotlib.legend.Legend at 0x7fd6d090fc50>"
            ]
          },
          "metadata": {},
          "execution_count": 65
        },
        {
          "output_type": "display_data",
          "data": {
            "image/png": "[encoded data removed]",
            "text/plain": [
              "<Figure size 842.4x595.44 with 1 Axes>"
            ]
          },
          "metadata": {}
        }
      ]
    },
    {
      "cell_type": "code",
      "metadata": {
        "colab": {
          "base_uri": "https://localhost:8080/",
          "height": 565
        },
        "id": "sIyHdDrr4waA",
        "outputId": "31658423-c61f-4935-b1a8-04a447fd7e5f"
      },
      "source": [
        "plt.title(\"Corruption Score Distribution\", fontsize = 25)\n",
        "sns.swarmplot(x=cor_all['Year'], y=cor_all['Score'])\n",
        "plt.ylabel('Score', fontsize=20)\n",
        "plt.xlabel(\"Year\", fontsize = 20)"
      ],
      "execution_count": null,
      "outputs": [
        {
          "output_type": "execute_result",
          "data": {
            "text/plain": [
              "Text(0.5, 0, 'Year')"
            ]
          },
          "metadata": {},
          "execution_count": 66
        },
        {
          "output_type": "display_data",
          "data": {
            "image/png": "[encoded data removed]",
            "text/plain": [
              "<Figure size 842.4x595.44 with 1 Axes>"
            ]
          },
          "metadata": {}
        }
      ]
    },
    {
      "cell_type": "code",
      "metadata": {
        "colab": {
          "base_uri": "https://localhost:8080/"
        },
        "id": "1lT2n6-wA4pA",
        "outputId": "7649077e-1c02-43e9-a1f6-2281ad8bb2a1"
      },
      "source": [
        "cor_all.isna().sum()"
      ],
      "execution_count": null,
      "outputs": [
        {
          "output_type": "execute_result",
          "data": {
            "text/plain": [
              "Rank       360\n",
              "Country      0\n",
              "Score        0\n",
              "Year         0\n",
              "dtype: int64"
            ]
          },
          "metadata": {},
          "execution_count": 67
        }
      ]
    },
    {
      "cell_type": "code",
      "metadata": {
        "colab": {
          "base_uri": "https://localhost:8080/"
        },
        "id": "hQn7053wA-cn",
        "outputId": "a0a35a05-9617-45f0-b5e3-8b9f429ac7e8"
      },
      "source": [
        "cor_all.isnull().sum()"
      ],
      "execution_count": null,
      "outputs": [
        {
          "output_type": "execute_result",
          "data": {
            "text/plain": [
              "Rank       360\n",
              "Country      0\n",
              "Score        0\n",
              "Year         0\n",
              "dtype: int64"
            ]
          },
          "metadata": {},
          "execution_count": 68
        }
      ]
    },
    {
      "cell_type": "code",
      "metadata": {
        "colab": {
          "base_uri": "https://localhost:8080/"
        },
        "id": "2TSXou3lBNnd",
        "outputId": "1d909e05-ef9d-4199-999d-618f44a36bfb"
      },
      "source": [
        "cor_all.isnull().values.any()"
      ],
      "execution_count": null,
      "outputs": [
        {
          "output_type": "execute_result",
          "data": {
            "text/plain": [
              "True"
            ]
          },
          "metadata": {},
          "execution_count": 69
        }
      ]
    },
    {
      "cell_type": "code",
      "metadata": {
        "colab": {
          "base_uri": "https://localhost:8080/"
        },
        "id": "NPjB1WrsLUAm",
        "outputId": "db3afe52-7734-4959-b11e-3e9e87d4ba20"
      },
      "source": [
        "cor_all.info()"
      ],
      "execution_count": null,
      "outputs": [
        {
          "output_type": "stream",
          "name": "stdout",
          "text": [
            "<class 'pandas.core.frame.DataFrame'>\n",
            "RangeIndex: 884 entries, 0 to 883\n",
            "Data columns (total 4 columns):\n",
            " #   Column   Non-Null Count  Dtype \n",
            "---  ------   --------------  ----- \n",
            " 0   Rank     524 non-null    Int64 \n",
            " 1   Country  884 non-null    object\n",
            " 2   Score    884 non-null    int64 \n",
            " 3   Year     884 non-null    object\n",
            "dtypes: Int64(1), int64(1), object(2)\n",
            "memory usage: 28.6+ KB\n"
          ]
        }
      ]
    },
    {
      "cell_type": "code",
      "metadata": {
        "colab": {
          "base_uri": "https://localhost:8080/",
          "height": 204
        },
        "id": "6VfTnuZrjcD-",
        "outputId": "cbfebba5-4497-4214-d111-f7074ee208ee"
      },
      "source": [
        "cor_all.head()"
      ],
      "execution_count": null,
      "outputs": [
        {
          "output_type": "execute_result",
          "data": {
            "text/html": [
              "<div>\n",
              "<style scoped>\n",
              "    .dataframe tbody tr th:only-of-type {\n",
              "        vertical-align: middle;\n",
              "    }\n",
              "\n",
              "    .dataframe tbody tr th {\n",
              "        vertical-align: top;\n",
              "    }\n",
              "\n",
              "    .dataframe thead th {\n",
              "        text-align: right;\n",
              "    }\n",
              "</style>\n",
              "<table border=\"1\" class=\"dataframe\">\n",
              "  <thead>\n",
              "    <tr style=\"text-align: right;\">\n",
              "      <th></th>\n",
              "      <th>Rank</th>\n",
              "      <th>Country</th>\n",
              "      <th>Score</th>\n",
              "      <th>Year</th>\n",
              "    </tr>\n",
              "  </thead>\n",
              "  <tbody>\n",
              "    <tr>\n",
              "      <th>0</th>\n",
              "      <td>1</td>\n",
              "      <td>Denmark</td>\n",
              "      <td>91</td>\n",
              "      <td>2015</td>\n",
              "    </tr>\n",
              "    <tr>\n",
              "      <th>1</th>\n",
              "      <td>1</td>\n",
              "      <td>New Zealand</td>\n",
              "      <td>91</td>\n",
              "      <td>2015</td>\n",
              "    </tr>\n",
              "    <tr>\n",
              "      <th>2</th>\n",
              "      <td>3</td>\n",
              "      <td>Finland</td>\n",
              "      <td>90</td>\n",
              "      <td>2015</td>\n",
              "    </tr>\n",
              "    <tr>\n",
              "      <th>3</th>\n",
              "      <td>4</td>\n",
              "      <td>Sweden</td>\n",
              "      <td>89</td>\n",
              "      <td>2015</td>\n",
              "    </tr>\n",
              "    <tr>\n",
              "      <th>4</th>\n",
              "      <td>5</td>\n",
              "      <td>Norway</td>\n",
              "      <td>88</td>\n",
              "      <td>2015</td>\n",
              "    </tr>\n",
              "  </tbody>\n",
              "</table>\n",
              "</div>"
            ],
            "text/plain": [
              "   Rank      Country  Score  Year\n",
              "0     1      Denmark     91  2015\n",
              "1     1  New Zealand     91  2015\n",
              "2     3      Finland     90  2015\n",
              "3     4       Sweden     89  2015\n",
              "4     5       Norway     88  2015"
            ]
          },
          "metadata": {},
          "execution_count": 71
        }
      ]
    },
    {
      "cell_type": "code",
      "metadata": {
        "id": "NPLVp--6MT64"
      },
      "source": [
        "#calc_data = plot_data.astype(float).filled(np.nan)"
      ],
      "execution_count": null,
      "outputs": []
    },
    {
      "cell_type": "code",
      "metadata": {
        "colab": {
          "base_uri": "https://localhost:8080/",
          "height": 341
        },
        "id": "1JN8s9e4cgWL",
        "outputId": "36dbe9b2-950d-40bd-fa63-94335a5be444"
      },
      "source": [
        "sns.set(rc={'figure.figsize':(10,10)})\n",
        "sns.heatmap(cor_all, annot=True, cmap='coolwarm')\n",
        "plt.title('Correlation plot')\n"
      ],
      "execution_count": null,
      "outputs": [
        {
          "output_type": "error",
          "ename": "TypeError",
          "evalue": "ignored",
          "traceback": [
            "\u001b[0;31m---------------------------------------------------------------------------\u001b[0m",
            "\u001b[0;31mTypeError\u001b[0m                                 Traceback (most recent call last)",
            "\u001b[0;32m<ipython-input-73-488d64d596f3>\u001b[0m in \u001b[0;36m<module>\u001b[0;34m()\u001b[0m\n\u001b[1;32m      1\u001b[0m \u001b[0msns\u001b[0m\u001b[0;34m.\u001b[0m\u001b[0mset\u001b[0m\u001b[0;34m(\u001b[0m\u001b[0mrc\u001b[0m\u001b[0;34m=\u001b[0m\u001b[0;34m{\u001b[0m\u001b[0;34m'figure.figsize'\u001b[0m\u001b[0;34m:\u001b[0m\u001b[0;34m(\u001b[0m\u001b[0;36m10\u001b[0m\u001b[0;34m,\u001b[0m\u001b[0;36m10\u001b[0m\u001b[0;34m)\u001b[0m\u001b[0;34m}\u001b[0m\u001b[0;34m)\u001b[0m\u001b[0;34m\u001b[0m\u001b[0;34m\u001b[0m\u001b[0m\n\u001b[0;32m----> 2\u001b[0;31m \u001b[0msns\u001b[0m\u001b[0;34m.\u001b[0m\u001b[0mheatmap\u001b[0m\u001b[0;34m(\u001b[0m\u001b[0mcor_all\u001b[0m\u001b[0;34m,\u001b[0m \u001b[0mannot\u001b[0m\u001b[0;34m=\u001b[0m\u001b[0;32mTrue\u001b[0m\u001b[0;34m,\u001b[0m \u001b[0mcmap\u001b[0m\u001b[0;34m=\u001b[0m\u001b[0;34m'coolwarm'\u001b[0m\u001b[0;34m)\u001b[0m\u001b[0;34m\u001b[0m\u001b[0;34m\u001b[0m\u001b[0m\n\u001b[0m\u001b[1;32m      3\u001b[0m \u001b[0mplt\u001b[0m\u001b[0;34m.\u001b[0m\u001b[0mtitle\u001b[0m\u001b[0;34m(\u001b[0m\u001b[0;34m'Correlation plot'\u001b[0m\u001b[0;34m)\u001b[0m\u001b[0;34m\u001b[0m\u001b[0;34m\u001b[0m\u001b[0m\n",
            "\u001b[0;32m/usr/local/lib/python3.7/dist-packages/seaborn/_decorators.py\u001b[0m in \u001b[0;36minner_f\u001b[0;34m(*args, **kwargs)\u001b[0m\n\u001b[1;32m     44\u001b[0m             )\n\u001b[1;32m     45\u001b[0m         \u001b[0mkwargs\u001b[0m\u001b[0;34m.\u001b[0m\u001b[0mupdate\u001b[0m\u001b[0;34m(\u001b[0m\u001b[0;34m{\u001b[0m\u001b[0mk\u001b[0m\u001b[0;34m:\u001b[0m \u001b[0marg\u001b[0m \u001b[0;32mfor\u001b[0m \u001b[0mk\u001b[0m\u001b[0;34m,\u001b[0m \u001b[0marg\u001b[0m \u001b[0;32min\u001b[0m \u001b[0mzip\u001b[0m\u001b[0;34m(\u001b[0m\u001b[0msig\u001b[0m\u001b[0;34m.\u001b[0m\u001b[0mparameters\u001b[0m\u001b[0;34m,\u001b[0m \u001b[0margs\u001b[0m\u001b[0;34m)\u001b[0m\u001b[0;34m}\u001b[0m\u001b[0;34m)\u001b[0m\u001b[0;34m\u001b[0m\u001b[0;34m\u001b[0m\u001b[0m\n\u001b[0;32m---> 46\u001b[0;31m         \u001b[0;32mreturn\u001b[0m \u001b[0mf\u001b[0m\u001b[0;34m(\u001b[0m\u001b[0;34m**\u001b[0m\u001b[0mkwargs\u001b[0m\u001b[0;34m)\u001b[0m\u001b[0;34m\u001b[0m\u001b[0;34m\u001b[0m\u001b[0m\n\u001b[0m\u001b[1;32m     47\u001b[0m     \u001b[0;32mreturn\u001b[0m \u001b[0minner_f\u001b[0m\u001b[0;34m\u001b[0m\u001b[0;34m\u001b[0m\u001b[0m\n\u001b[1;32m     48\u001b[0m \u001b[0;34m\u001b[0m\u001b[0m\n",
            "\u001b[0;32m/usr/local/lib/python3.7/dist-packages/seaborn/matrix.py\u001b[0m in \u001b[0;36mheatmap\u001b[0;34m(data, vmin, vmax, cmap, center, robust, annot, fmt, annot_kws, linewidths, linecolor, cbar, cbar_kws, cbar_ax, square, xticklabels, yticklabels, mask, ax, **kwargs)\u001b[0m\n\u001b[1;32m    540\u001b[0m     plotter = _HeatMapper(data, vmin, vmax, cmap, center, robust, annot, fmt,\n\u001b[1;32m    541\u001b[0m                           \u001b[0mannot_kws\u001b[0m\u001b[0;34m,\u001b[0m \u001b[0mcbar\u001b[0m\u001b[0;34m,\u001b[0m \u001b[0mcbar_kws\u001b[0m\u001b[0;34m,\u001b[0m \u001b[0mxticklabels\u001b[0m\u001b[0;34m,\u001b[0m\u001b[0;34m\u001b[0m\u001b[0;34m\u001b[0m\u001b[0m\n\u001b[0;32m--> 542\u001b[0;31m                           yticklabels, mask)\n\u001b[0m\u001b[1;32m    543\u001b[0m \u001b[0;34m\u001b[0m\u001b[0m\n\u001b[1;32m    544\u001b[0m     \u001b[0;31m# Add the pcolormesh kwargs here\u001b[0m\u001b[0;34m\u001b[0m\u001b[0;34m\u001b[0m\u001b[0;34m\u001b[0m\u001b[0m\n",
            "\u001b[0;32m/usr/local/lib/python3.7/dist-packages/seaborn/matrix.py\u001b[0m in \u001b[0;36m__init__\u001b[0;34m(self, data, vmin, vmax, cmap, center, robust, annot, fmt, annot_kws, cbar, cbar_kws, xticklabels, yticklabels, mask)\u001b[0m\n\u001b[1;32m    158\u001b[0m         \u001b[0;31m# Determine good default values for the colormapping\u001b[0m\u001b[0;34m\u001b[0m\u001b[0;34m\u001b[0m\u001b[0;34m\u001b[0m\u001b[0m\n\u001b[1;32m    159\u001b[0m         self._determine_cmap_params(plot_data, vmin, vmax,\n\u001b[0;32m--> 160\u001b[0;31m                                     cmap, center, robust)\n\u001b[0m\u001b[1;32m    161\u001b[0m \u001b[0;34m\u001b[0m\u001b[0m\n\u001b[1;32m    162\u001b[0m         \u001b[0;31m# Sort out the annotations\u001b[0m\u001b[0;34m\u001b[0m\u001b[0;34m\u001b[0m\u001b[0;34m\u001b[0m\u001b[0m\n",
            "\u001b[0;32m/usr/local/lib/python3.7/dist-packages/seaborn/matrix.py\u001b[0m in \u001b[0;36m_determine_cmap_params\u001b[0;34m(self, plot_data, vmin, vmax, cmap, center, robust)\u001b[0m\n\u001b[1;32m    191\u001b[0m \u001b[0;34m\u001b[0m\u001b[0m\n\u001b[1;32m    192\u001b[0m         \u001b[0;31m# plot_data is a np.ma.array instance\u001b[0m\u001b[0;34m\u001b[0m\u001b[0;34m\u001b[0m\u001b[0;34m\u001b[0m\u001b[0m\n\u001b[0;32m--> 193\u001b[0;31m         \u001b[0mcalc_data\u001b[0m \u001b[0;34m=\u001b[0m \u001b[0mplot_data\u001b[0m\u001b[0;34m.\u001b[0m\u001b[0mastype\u001b[0m\u001b[0;34m(\u001b[0m\u001b[0mfloat\u001b[0m\u001b[0;34m)\u001b[0m\u001b[0;34m.\u001b[0m\u001b[0mfilled\u001b[0m\u001b[0;34m(\u001b[0m\u001b[0mnp\u001b[0m\u001b[0;34m.\u001b[0m\u001b[0mnan\u001b[0m\u001b[0;34m)\u001b[0m\u001b[0;34m\u001b[0m\u001b[0;34m\u001b[0m\u001b[0m\n\u001b[0m\u001b[1;32m    194\u001b[0m         \u001b[0;32mif\u001b[0m \u001b[0mvmin\u001b[0m \u001b[0;32mis\u001b[0m \u001b[0;32mNone\u001b[0m\u001b[0;34m:\u001b[0m\u001b[0;34m\u001b[0m\u001b[0;34m\u001b[0m\u001b[0m\n\u001b[1;32m    195\u001b[0m             \u001b[0;32mif\u001b[0m \u001b[0mrobust\u001b[0m\u001b[0;34m:\u001b[0m\u001b[0;34m\u001b[0m\u001b[0;34m\u001b[0m\u001b[0m\n",
            "\u001b[0;31mTypeError\u001b[0m: float() argument must be a string or a number, not 'NAType'"
          ]
        }
      ]
    },
    {
      "cell_type": "markdown",
      "metadata": {
        "id": "C2o2u5tX_jBn"
      },
      "source": [
        "#SECOND DATA SET WITH GDP DATA "
      ]
    },
    {
      "cell_type": "code",
      "metadata": {
        "id": "I2f-EXCH_50W"
      },
      "source": [
        "gdp = pd.read_csv('/content/drive/My Drive/hww_all.csv')"
      ],
      "execution_count": null,
      "outputs": []
    },
    {
      "cell_type": "markdown",
      "metadata": {
        "id": "zAHR3IUMamO2"
      },
      "source": [
        "zasto mi je iscitan dataset bez zemlje?"
      ]
    },
    {
      "cell_type": "code",
      "metadata": {
        "colab": {
          "base_uri": "https://localhost:8080/",
          "height": 204
        },
        "id": "9Pv4VbGSiqZQ",
        "outputId": "aceb6370-d6b8-4918-ca27-a2ca88b72e61"
      },
      "source": [
        "gdp.head()"
      ],
      "execution_count": null,
      "outputs": [
        {
          "output_type": "execute_result",
          "data": {
            "text/html": [
              "<div>\n",
              "<style scoped>\n",
              "    .dataframe tbody tr th:only-of-type {\n",
              "        vertical-align: middle;\n",
              "    }\n",
              "\n",
              "    .dataframe tbody tr th {\n",
              "        vertical-align: top;\n",
              "    }\n",
              "\n",
              "    .dataframe thead th {\n",
              "        text-align: right;\n",
              "    }\n",
              "</style>\n",
              "<table border=\"1\" class=\"dataframe\">\n",
              "  <thead>\n",
              "    <tr style=\"text-align: right;\">\n",
              "      <th></th>\n",
              "      <th>Country</th>\n",
              "      <th>Rank</th>\n",
              "      <th>Score</th>\n",
              "      <th>GDP</th>\n",
              "      <th>Family</th>\n",
              "      <th>Health</th>\n",
              "      <th>Freedom</th>\n",
              "      <th>Corruption</th>\n",
              "      <th>Generosity</th>\n",
              "      <th>Year</th>\n",
              "    </tr>\n",
              "  </thead>\n",
              "  <tbody>\n",
              "    <tr>\n",
              "      <th>0</th>\n",
              "      <td>Switzerland</td>\n",
              "      <td>1</td>\n",
              "      <td>7.587</td>\n",
              "      <td>1.39651</td>\n",
              "      <td>1.34951</td>\n",
              "      <td>0.94143</td>\n",
              "      <td>0.66557</td>\n",
              "      <td>0.41978</td>\n",
              "      <td>0.29678</td>\n",
              "      <td>2015</td>\n",
              "    </tr>\n",
              "    <tr>\n",
              "      <th>1</th>\n",
              "      <td>Iceland</td>\n",
              "      <td>2</td>\n",
              "      <td>7.561</td>\n",
              "      <td>1.30232</td>\n",
              "      <td>1.40223</td>\n",
              "      <td>0.94784</td>\n",
              "      <td>0.62877</td>\n",
              "      <td>0.14145</td>\n",
              "      <td>0.43630</td>\n",
              "      <td>2015</td>\n",
              "    </tr>\n",
              "    <tr>\n",
              "      <th>2</th>\n",
              "      <td>Denmark</td>\n",
              "      <td>3</td>\n",
              "      <td>7.527</td>\n",
              "      <td>1.32548</td>\n",
              "      <td>1.36058</td>\n",
              "      <td>0.87464</td>\n",
              "      <td>0.64938</td>\n",
              "      <td>0.48357</td>\n",
              "      <td>0.34139</td>\n",
              "      <td>2015</td>\n",
              "    </tr>\n",
              "    <tr>\n",
              "      <th>3</th>\n",
              "      <td>Norway</td>\n",
              "      <td>4</td>\n",
              "      <td>7.522</td>\n",
              "      <td>1.45900</td>\n",
              "      <td>1.33095</td>\n",
              "      <td>0.88521</td>\n",
              "      <td>0.66973</td>\n",
              "      <td>0.36503</td>\n",
              "      <td>0.34699</td>\n",
              "      <td>2015</td>\n",
              "    </tr>\n",
              "    <tr>\n",
              "      <th>4</th>\n",
              "      <td>Canada</td>\n",
              "      <td>5</td>\n",
              "      <td>7.427</td>\n",
              "      <td>1.32629</td>\n",
              "      <td>1.32261</td>\n",
              "      <td>0.90563</td>\n",
              "      <td>0.63297</td>\n",
              "      <td>0.32957</td>\n",
              "      <td>0.45811</td>\n",
              "      <td>2015</td>\n",
              "    </tr>\n",
              "  </tbody>\n",
              "</table>\n",
              "</div>"
            ],
            "text/plain": [
              "       Country  Rank  Score      GDP  ...  Freedom  Corruption  Generosity  Year\n",
              "0  Switzerland     1  7.587  1.39651  ...  0.66557     0.41978     0.29678  2015\n",
              "1      Iceland     2  7.561  1.30232  ...  0.62877     0.14145     0.43630  2015\n",
              "2      Denmark     3  7.527  1.32548  ...  0.64938     0.48357     0.34139  2015\n",
              "3       Norway     4  7.522  1.45900  ...  0.66973     0.36503     0.34699  2015\n",
              "4       Canada     5  7.427  1.32629  ...  0.63297     0.32957     0.45811  2015\n",
              "\n",
              "[5 rows x 10 columns]"
            ]
          },
          "metadata": {},
          "execution_count": 75
        }
      ]
    },
    {
      "cell_type": "markdown",
      "metadata": {
        "id": "YjWCsE_9jiwJ"
      },
      "source": [
        "GOAL:\n",
        "* TO COMPARE AND ADJUST 2 DF INto ONE BY THE NAME OF COUNTRY, then\n",
        "* ADD COLUMN GDP FROM GDP DF into existed df\n",
        "* algorithms apply in order to fnd out how gdp impacts to corruption\n",
        "* why?\n"
      ]
    },
    {
      "cell_type": "markdown",
      "metadata": {
        "id": "U8BBGWZcfNcm"
      },
      "source": [
        "merge sa 2 kolone?!"
      ]
    },
    {
      "cell_type": "code",
      "metadata": {
        "id": "gEsAZPARRxOe"
      },
      "source": [
        ""
      ],
      "execution_count": null,
      "outputs": []
    },
    {
      "cell_type": "code",
      "metadata": {
        "id": "bUrbInjwjC9N",
        "colab": {
          "base_uri": "https://localhost:8080/"
        },
        "outputId": "69f2c990-bd9f-40c6-c351-ce9c374c6350"
      },
      "source": [
        "gdp.shape"
      ],
      "execution_count": null,
      "outputs": [
        {
          "output_type": "execute_result",
          "data": {
            "text/plain": [
              "(782, 10)"
            ]
          },
          "metadata": {},
          "execution_count": 76
        }
      ]
    },
    {
      "cell_type": "code",
      "metadata": {
        "id": "2yw7FCT2Mhxg"
      },
      "source": [
        "new_df = gdp.merge(cor_all, how='inner', on=['Country', 'Year'])\n"
      ],
      "execution_count": null,
      "outputs": []
    },
    {
      "cell_type": "code",
      "metadata": {
        "colab": {
          "base_uri": "https://localhost:8080/"
        },
        "id": "4l0JciUVRz9Z",
        "outputId": "b7b64a21-5cdc-4b0d-9c4f-6d77dd7f34c2"
      },
      "source": [
        "gdp.info()"
      ],
      "execution_count": null,
      "outputs": [
        {
          "output_type": "stream",
          "name": "stdout",
          "text": [
            "<class 'pandas.core.frame.DataFrame'>\n",
            "RangeIndex: 782 entries, 0 to 781\n",
            "Data columns (total 10 columns):\n",
            " #   Column      Non-Null Count  Dtype  \n",
            "---  ------      --------------  -----  \n",
            " 0   Country     782 non-null    object \n",
            " 1   Rank        782 non-null    int64  \n",
            " 2   Score       782 non-null    float64\n",
            " 3   GDP         782 non-null    float64\n",
            " 4   Family      782 non-null    float64\n",
            " 5   Health      782 non-null    float64\n",
            " 6   Freedom     782 non-null    float64\n",
            " 7   Corruption  782 non-null    float64\n",
            " 8   Generosity  782 non-null    float64\n",
            " 9   Year        782 non-null    int64  \n",
            "dtypes: float64(7), int64(2), object(1)\n",
            "memory usage: 61.2+ KB\n"
          ]
        }
      ]
    },
    {
      "cell_type": "code",
      "metadata": {
        "id": "3BUwVDETSOe2"
      },
      "source": [
        "cor_all['Year'] = pd.to_numeric(cor_all['Year'])"
      ],
      "execution_count": null,
      "outputs": []
    },
    {
      "cell_type": "code",
      "metadata": {
        "colab": {
          "base_uri": "https://localhost:8080/",
          "height": 204
        },
        "id": "FxOmoOFXTvoH",
        "outputId": "f15ee3fc-27e3-4dfe-fda4-9e324e86fac0"
      },
      "source": [
        "new_df.head()"
      ],
      "execution_count": null,
      "outputs": [
        {
          "output_type": "execute_result",
          "data": {
            "text/html": [
              "<div>\n",
              "<style scoped>\n",
              "    .dataframe tbody tr th:only-of-type {\n",
              "        vertical-align: middle;\n",
              "    }\n",
              "\n",
              "    .dataframe tbody tr th {\n",
              "        vertical-align: top;\n",
              "    }\n",
              "\n",
              "    .dataframe thead th {\n",
              "        text-align: right;\n",
              "    }\n",
              "</style>\n",
              "<table border=\"1\" class=\"dataframe\">\n",
              "  <thead>\n",
              "    <tr style=\"text-align: right;\">\n",
              "      <th></th>\n",
              "      <th>Country</th>\n",
              "      <th>Rank_x</th>\n",
              "      <th>Score_x</th>\n",
              "      <th>GDP</th>\n",
              "      <th>Family</th>\n",
              "      <th>Health</th>\n",
              "      <th>Freedom</th>\n",
              "      <th>Corruption</th>\n",
              "      <th>Generosity</th>\n",
              "      <th>Year</th>\n",
              "      <th>Rank_y</th>\n",
              "      <th>Score_y</th>\n",
              "    </tr>\n",
              "  </thead>\n",
              "  <tbody>\n",
              "    <tr>\n",
              "      <th>0</th>\n",
              "      <td>Switzerland</td>\n",
              "      <td>1</td>\n",
              "      <td>7.587</td>\n",
              "      <td>1.39651</td>\n",
              "      <td>1.34951</td>\n",
              "      <td>0.94143</td>\n",
              "      <td>0.66557</td>\n",
              "      <td>0.41978</td>\n",
              "      <td>0.29678</td>\n",
              "      <td>2015</td>\n",
              "      <td>6</td>\n",
              "      <td>86</td>\n",
              "    </tr>\n",
              "    <tr>\n",
              "      <th>1</th>\n",
              "      <td>Iceland</td>\n",
              "      <td>2</td>\n",
              "      <td>7.561</td>\n",
              "      <td>1.30232</td>\n",
              "      <td>1.40223</td>\n",
              "      <td>0.94784</td>\n",
              "      <td>0.62877</td>\n",
              "      <td>0.14145</td>\n",
              "      <td>0.43630</td>\n",
              "      <td>2015</td>\n",
              "      <td>13</td>\n",
              "      <td>79</td>\n",
              "    </tr>\n",
              "    <tr>\n",
              "      <th>2</th>\n",
              "      <td>Denmark</td>\n",
              "      <td>3</td>\n",
              "      <td>7.527</td>\n",
              "      <td>1.32548</td>\n",
              "      <td>1.36058</td>\n",
              "      <td>0.87464</td>\n",
              "      <td>0.64938</td>\n",
              "      <td>0.48357</td>\n",
              "      <td>0.34139</td>\n",
              "      <td>2015</td>\n",
              "      <td>1</td>\n",
              "      <td>91</td>\n",
              "    </tr>\n",
              "    <tr>\n",
              "      <th>3</th>\n",
              "      <td>Norway</td>\n",
              "      <td>4</td>\n",
              "      <td>7.522</td>\n",
              "      <td>1.45900</td>\n",
              "      <td>1.33095</td>\n",
              "      <td>0.88521</td>\n",
              "      <td>0.66973</td>\n",
              "      <td>0.36503</td>\n",
              "      <td>0.34699</td>\n",
              "      <td>2015</td>\n",
              "      <td>5</td>\n",
              "      <td>88</td>\n",
              "    </tr>\n",
              "    <tr>\n",
              "      <th>4</th>\n",
              "      <td>Canada</td>\n",
              "      <td>5</td>\n",
              "      <td>7.427</td>\n",
              "      <td>1.32629</td>\n",
              "      <td>1.32261</td>\n",
              "      <td>0.90563</td>\n",
              "      <td>0.63297</td>\n",
              "      <td>0.32957</td>\n",
              "      <td>0.45811</td>\n",
              "      <td>2015</td>\n",
              "      <td>10</td>\n",
              "      <td>83</td>\n",
              "    </tr>\n",
              "  </tbody>\n",
              "</table>\n",
              "</div>"
            ],
            "text/plain": [
              "       Country  Rank_x  Score_x      GDP  ...  Generosity  Year  Rank_y  Score_y\n",
              "0  Switzerland       1    7.587  1.39651  ...     0.29678  2015       6       86\n",
              "1      Iceland       2    7.561  1.30232  ...     0.43630  2015      13       79\n",
              "2      Denmark       3    7.527  1.32548  ...     0.34139  2015       1       91\n",
              "3       Norway       4    7.522  1.45900  ...     0.34699  2015       5       88\n",
              "4       Canada       5    7.427  1.32629  ...     0.45811  2015      10       83\n",
              "\n",
              "[5 rows x 12 columns]"
            ]
          },
          "metadata": {},
          "execution_count": 87
        }
      ]
    },
    {
      "cell_type": "code",
      "metadata": {
        "colab": {
          "base_uri": "https://localhost:8080/"
        },
        "id": "usV5wabDeMGk",
        "outputId": "a20815ff-813c-4500-ee39-c1dc4a28bedb"
      },
      "source": [
        "#new_df.shape"
      ],
      "execution_count": null,
      "outputs": [
        {
          "output_type": "execute_result",
          "data": {
            "text/plain": [
              "(3673, 13)"
            ]
          },
          "metadata": {},
          "execution_count": 78
        }
      ]
    },
    {
      "cell_type": "code",
      "metadata": {
        "colab": {
          "base_uri": "https://localhost:8080/",
          "height": 204
        },
        "id": "Dl8veZPoe_xX",
        "outputId": "5869055a-d190-49f6-a9f9-842bb7fa42f0"
      },
      "source": [
        "#new_df.head()"
      ],
      "execution_count": null,
      "outputs": [
        {
          "output_type": "execute_result",
          "data": {
            "text/html": [
              "<div>\n",
              "<style scoped>\n",
              "    .dataframe tbody tr th:only-of-type {\n",
              "        vertical-align: middle;\n",
              "    }\n",
              "\n",
              "    .dataframe tbody tr th {\n",
              "        vertical-align: top;\n",
              "    }\n",
              "\n",
              "    .dataframe thead th {\n",
              "        text-align: right;\n",
              "    }\n",
              "</style>\n",
              "<table border=\"1\" class=\"dataframe\">\n",
              "  <thead>\n",
              "    <tr style=\"text-align: right;\">\n",
              "      <th></th>\n",
              "      <th>Rank_x</th>\n",
              "      <th>Country</th>\n",
              "      <th>Score_x</th>\n",
              "      <th>Year_x</th>\n",
              "      <th>Rank_y</th>\n",
              "      <th>Score_y</th>\n",
              "      <th>GDP</th>\n",
              "      <th>Family</th>\n",
              "      <th>Health</th>\n",
              "      <th>Freedom</th>\n",
              "      <th>Corruption</th>\n",
              "      <th>Generosity</th>\n",
              "      <th>Year_y</th>\n",
              "    </tr>\n",
              "  </thead>\n",
              "  <tbody>\n",
              "    <tr>\n",
              "      <th>0</th>\n",
              "      <td>1</td>\n",
              "      <td>Denmark</td>\n",
              "      <td>91</td>\n",
              "      <td>2015</td>\n",
              "      <td>3</td>\n",
              "      <td>7.527</td>\n",
              "      <td>1.325480</td>\n",
              "      <td>1.360580</td>\n",
              "      <td>0.874640</td>\n",
              "      <td>0.649380</td>\n",
              "      <td>0.48357</td>\n",
              "      <td>0.34139</td>\n",
              "      <td>2015</td>\n",
              "    </tr>\n",
              "    <tr>\n",
              "      <th>1</th>\n",
              "      <td>1</td>\n",
              "      <td>Denmark</td>\n",
              "      <td>91</td>\n",
              "      <td>2015</td>\n",
              "      <td>1</td>\n",
              "      <td>7.526</td>\n",
              "      <td>1.441780</td>\n",
              "      <td>1.163740</td>\n",
              "      <td>0.795040</td>\n",
              "      <td>0.579410</td>\n",
              "      <td>0.44453</td>\n",
              "      <td>0.36171</td>\n",
              "      <td>2016</td>\n",
              "    </tr>\n",
              "    <tr>\n",
              "      <th>2</th>\n",
              "      <td>1</td>\n",
              "      <td>Denmark</td>\n",
              "      <td>91</td>\n",
              "      <td>2015</td>\n",
              "      <td>2</td>\n",
              "      <td>7.522</td>\n",
              "      <td>1.482383</td>\n",
              "      <td>1.551122</td>\n",
              "      <td>0.792566</td>\n",
              "      <td>0.626007</td>\n",
              "      <td>0.40077</td>\n",
              "      <td>0.35528</td>\n",
              "      <td>2017</td>\n",
              "    </tr>\n",
              "    <tr>\n",
              "      <th>3</th>\n",
              "      <td>1</td>\n",
              "      <td>Denmark</td>\n",
              "      <td>91</td>\n",
              "      <td>2015</td>\n",
              "      <td>3</td>\n",
              "      <td>7.555</td>\n",
              "      <td>1.351000</td>\n",
              "      <td>1.590000</td>\n",
              "      <td>0.868000</td>\n",
              "      <td>0.683000</td>\n",
              "      <td>0.40800</td>\n",
              "      <td>0.28400</td>\n",
              "      <td>2018</td>\n",
              "    </tr>\n",
              "    <tr>\n",
              "      <th>4</th>\n",
              "      <td>1</td>\n",
              "      <td>Denmark</td>\n",
              "      <td>91</td>\n",
              "      <td>2015</td>\n",
              "      <td>2</td>\n",
              "      <td>7.600</td>\n",
              "      <td>1.383000</td>\n",
              "      <td>1.573000</td>\n",
              "      <td>0.996000</td>\n",
              "      <td>0.592000</td>\n",
              "      <td>0.41000</td>\n",
              "      <td>0.25200</td>\n",
              "      <td>2019</td>\n",
              "    </tr>\n",
              "  </tbody>\n",
              "</table>\n",
              "</div>"
            ],
            "text/plain": [
              "   Rank_x  Country  Score_x Year_x  ...   Freedom  Corruption  Generosity  Year_y\n",
              "0       1  Denmark       91   2015  ...  0.649380     0.48357     0.34139    2015\n",
              "1       1  Denmark       91   2015  ...  0.579410     0.44453     0.36171    2016\n",
              "2       1  Denmark       91   2015  ...  0.626007     0.40077     0.35528    2017\n",
              "3       1  Denmark       91   2015  ...  0.683000     0.40800     0.28400    2018\n",
              "4       1  Denmark       91   2015  ...  0.592000     0.41000     0.25200    2019\n",
              "\n",
              "[5 rows x 13 columns]"
            ]
          },
          "metadata": {},
          "execution_count": 79
        }
      ]
    },
    {
      "cell_type": "code",
      "metadata": {
        "id": "5LXmldhpfC0g"
      },
      "source": [
        ""
      ],
      "execution_count": null,
      "outputs": []
    }
  ]
}